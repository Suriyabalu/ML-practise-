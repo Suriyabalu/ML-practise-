{
  "nbformat": 4,
  "nbformat_minor": 0,
  "metadata": {
    "colab": {
      "provenance": [],
      "include_colab_link": true
    },
    "kernelspec": {
      "name": "python3",
      "display_name": "Python 3"
    },
    "language_info": {
      "name": "python"
    }
  },
  "cells": [
    {
      "cell_type": "markdown",
      "metadata": {
        "id": "view-in-github",
        "colab_type": "text"
      },
      "source": [
        "<a href=\"https://colab.research.google.com/github/Suriyabalu/ML-practise-/blob/main/Suriya_.ipynb\" target=\"_parent\"><img src=\"https://colab.research.google.com/assets/colab-badge.svg\" alt=\"Open In Colab\"/></a>"
      ]
    },
    {
      "cell_type": "code",
      "source": [
        "import matplotlib.pyplot as plt\n",
        "import seaborn as sns\n",
        "from matplotlib.pyplot import xticks\n",
        "%matplotlib inline"
      ],
      "metadata": {
        "id": "nKy0n_521h9W"
      },
      "execution_count": null,
      "outputs": []
    },
    {
      "cell_type": "code",
      "source": [
        "import pandas as pd\n",
        "import numpy as np\n",
        "import matplotlib.pyplot as plt\n",
        "import seaborn as sns\n",
        "from sklearn.model_selection import train_test_split\n",
        "from sklearn.preprocessing import OneHotEncoder\n",
        "from sklearn.compose import ColumnTransformer\n",
        "from sklearn.linear_model import LinearRegression\n",
        "from sklearn.metrics import mean_squared_error, mean_absolute_error, r2_score\n",
        "\n",
        "# Load the dataset into a pandas dataframe\n",
        "df =pd.DataFrame(pd.read_csv('https://docs.google.com/spreadsheets/d/1rK1CLqpsd6JfSBLk9nRE-f0NzDc9lEXgxZ-cKjxIN_s/export?format=csv')) \n",
        "\n",
        "\n",
        "# Drop the leads with STATUS other than ‘WON’ or ‘LOST’\n",
        "df = df[df['status'].isin(['WON', 'LOST'])]\n",
        "\n",
        "\n",
        "# Replace NaN values with a string\n",
        "# df = df.fillna('9b2d5b4678781e53038e91ea5324530a03f27dc1d0e5f6c9bc9d493a23be9de0')\n",
        "df = df.replace('9b2d5b4678781e53038e91ea5324530a03f27dc1d0e5f6c9bc9d493a23be9de0', np.nan)\n",
        "#Naming the first column\n",
        "df.rename(columns={ df.columns[0]: \"Sno\" }, inplace = True)\n",
        "\n",
        "df.head(2)\n"
      ],
      "metadata": {
        "colab": {
          "base_uri": "https://localhost:8080/",
          "height": 193
        },
        "id": "leq5-tgX2YfG",
        "outputId": "f17d4abd-31f1-4df9-982e-b0069b04261d"
      },
      "execution_count": null,
      "outputs": [
        {
          "output_type": "execute_result",
          "data": {
            "text/plain": [
              "   Sno                                           Agent_id status  \\\n",
              "0    0  1deba9e96f404694373de9749ddd1ca8aa7bb823145a6f...   LOST   \n",
              "1    1  299ae77a4ef350ae0dd37d6bba1c002d03444fb1edb236...   LOST   \n",
              "\n",
              "      lost_reason budget lease movein source source_city source_country  \\\n",
              "0  Not responding    NaN   NaN    NaN    NaN         NaN            NaN   \n",
              "1      Low budget    NaN   NaN    NaN    NaN         NaN            NaN   \n",
              "\n",
              "                                          utm_source  \\\n",
              "0  3d59f7548e1af2151b64135003ce63c0a484c26b9b8b16...   \n",
              "1  3d59f7548e1af2151b64135003ce63c0a484c26b9b8b16...   \n",
              "\n",
              "                                          utm_medium  \\\n",
              "0  268ad70eb5bc4737a2ae28162cbca30118cc94520e49ef...   \n",
              "1  268ad70eb5bc4737a2ae28162cbca30118cc94520e49ef...   \n",
              "\n",
              "                                            des_city  \\\n",
              "0  ecc0e7dc084f141b29479058967d0bc07dee25d9690a98...   \n",
              "1  5372372f3bf5896820cb2819300c3e681820d82c6efc54...   \n",
              "\n",
              "                                         des_country room_type  \\\n",
              "0  8d23a6e37e0a6431a8f1b43a91026dcff51170a89a6512...       NaN   \n",
              "1  8d23a6e37e0a6431a8f1b43a91026dcff51170a89a6512...       NaN   \n",
              "\n",
              "                                             lead_id  \n",
              "0  cd5dc0d9393f3980d11d4ba6f88f8110c2b7a7f7796307...  \n",
              "1  b94693673a5f7178d1b114e4004ad52377d3244dd24a3d...  "
            ],
            "text/html": [
              "\n",
              "  <div id=\"df-88ff75b3-c932-4790-b69f-7241c6ee2311\">\n",
              "    <div class=\"colab-df-container\">\n",
              "      <div>\n",
              "<style scoped>\n",
              "    .dataframe tbody tr th:only-of-type {\n",
              "        vertical-align: middle;\n",
              "    }\n",
              "\n",
              "    .dataframe tbody tr th {\n",
              "        vertical-align: top;\n",
              "    }\n",
              "\n",
              "    .dataframe thead th {\n",
              "        text-align: right;\n",
              "    }\n",
              "</style>\n",
              "<table border=\"1\" class=\"dataframe\">\n",
              "  <thead>\n",
              "    <tr style=\"text-align: right;\">\n",
              "      <th></th>\n",
              "      <th>Sno</th>\n",
              "      <th>Agent_id</th>\n",
              "      <th>status</th>\n",
              "      <th>lost_reason</th>\n",
              "      <th>budget</th>\n",
              "      <th>lease</th>\n",
              "      <th>movein</th>\n",
              "      <th>source</th>\n",
              "      <th>source_city</th>\n",
              "      <th>source_country</th>\n",
              "      <th>utm_source</th>\n",
              "      <th>utm_medium</th>\n",
              "      <th>des_city</th>\n",
              "      <th>des_country</th>\n",
              "      <th>room_type</th>\n",
              "      <th>lead_id</th>\n",
              "    </tr>\n",
              "  </thead>\n",
              "  <tbody>\n",
              "    <tr>\n",
              "      <th>0</th>\n",
              "      <td>0</td>\n",
              "      <td>1deba9e96f404694373de9749ddd1ca8aa7bb823145a6f...</td>\n",
              "      <td>LOST</td>\n",
              "      <td>Not responding</td>\n",
              "      <td>NaN</td>\n",
              "      <td>NaN</td>\n",
              "      <td>NaN</td>\n",
              "      <td>NaN</td>\n",
              "      <td>NaN</td>\n",
              "      <td>NaN</td>\n",
              "      <td>3d59f7548e1af2151b64135003ce63c0a484c26b9b8b16...</td>\n",
              "      <td>268ad70eb5bc4737a2ae28162cbca30118cc94520e49ef...</td>\n",
              "      <td>ecc0e7dc084f141b29479058967d0bc07dee25d9690a98...</td>\n",
              "      <td>8d23a6e37e0a6431a8f1b43a91026dcff51170a89a6512...</td>\n",
              "      <td>NaN</td>\n",
              "      <td>cd5dc0d9393f3980d11d4ba6f88f8110c2b7a7f7796307...</td>\n",
              "    </tr>\n",
              "    <tr>\n",
              "      <th>1</th>\n",
              "      <td>1</td>\n",
              "      <td>299ae77a4ef350ae0dd37d6bba1c002d03444fb1edb236...</td>\n",
              "      <td>LOST</td>\n",
              "      <td>Low budget</td>\n",
              "      <td>NaN</td>\n",
              "      <td>NaN</td>\n",
              "      <td>NaN</td>\n",
              "      <td>NaN</td>\n",
              "      <td>NaN</td>\n",
              "      <td>NaN</td>\n",
              "      <td>3d59f7548e1af2151b64135003ce63c0a484c26b9b8b16...</td>\n",
              "      <td>268ad70eb5bc4737a2ae28162cbca30118cc94520e49ef...</td>\n",
              "      <td>5372372f3bf5896820cb2819300c3e681820d82c6efc54...</td>\n",
              "      <td>8d23a6e37e0a6431a8f1b43a91026dcff51170a89a6512...</td>\n",
              "      <td>NaN</td>\n",
              "      <td>b94693673a5f7178d1b114e4004ad52377d3244dd24a3d...</td>\n",
              "    </tr>\n",
              "  </tbody>\n",
              "</table>\n",
              "</div>\n",
              "      <button class=\"colab-df-convert\" onclick=\"convertToInteractive('df-88ff75b3-c932-4790-b69f-7241c6ee2311')\"\n",
              "              title=\"Convert this dataframe to an interactive table.\"\n",
              "              style=\"display:none;\">\n",
              "        \n",
              "  <svg xmlns=\"http://www.w3.org/2000/svg\" height=\"24px\"viewBox=\"0 0 24 24\"\n",
              "       width=\"24px\">\n",
              "    <path d=\"M0 0h24v24H0V0z\" fill=\"none\"/>\n",
              "    <path d=\"M18.56 5.44l.94 2.06.94-2.06 2.06-.94-2.06-.94-.94-2.06-.94 2.06-2.06.94zm-11 1L8.5 8.5l.94-2.06 2.06-.94-2.06-.94L8.5 2.5l-.94 2.06-2.06.94zm10 10l.94 2.06.94-2.06 2.06-.94-2.06-.94-.94-2.06-.94 2.06-2.06.94z\"/><path d=\"M17.41 7.96l-1.37-1.37c-.4-.4-.92-.59-1.43-.59-.52 0-1.04.2-1.43.59L10.3 9.45l-7.72 7.72c-.78.78-.78 2.05 0 2.83L4 21.41c.39.39.9.59 1.41.59.51 0 1.02-.2 1.41-.59l7.78-7.78 2.81-2.81c.8-.78.8-2.07 0-2.86zM5.41 20L4 18.59l7.72-7.72 1.47 1.35L5.41 20z\"/>\n",
              "  </svg>\n",
              "      </button>\n",
              "      \n",
              "  <style>\n",
              "    .colab-df-container {\n",
              "      display:flex;\n",
              "      flex-wrap:wrap;\n",
              "      gap: 12px;\n",
              "    }\n",
              "\n",
              "    .colab-df-convert {\n",
              "      background-color: #E8F0FE;\n",
              "      border: none;\n",
              "      border-radius: 50%;\n",
              "      cursor: pointer;\n",
              "      display: none;\n",
              "      fill: #1967D2;\n",
              "      height: 32px;\n",
              "      padding: 0 0 0 0;\n",
              "      width: 32px;\n",
              "    }\n",
              "\n",
              "    .colab-df-convert:hover {\n",
              "      background-color: #E2EBFA;\n",
              "      box-shadow: 0px 1px 2px rgba(60, 64, 67, 0.3), 0px 1px 3px 1px rgba(60, 64, 67, 0.15);\n",
              "      fill: #174EA6;\n",
              "    }\n",
              "\n",
              "    [theme=dark] .colab-df-convert {\n",
              "      background-color: #3B4455;\n",
              "      fill: #D2E3FC;\n",
              "    }\n",
              "\n",
              "    [theme=dark] .colab-df-convert:hover {\n",
              "      background-color: #434B5C;\n",
              "      box-shadow: 0px 1px 3px 1px rgba(0, 0, 0, 0.15);\n",
              "      filter: drop-shadow(0px 1px 2px rgba(0, 0, 0, 0.3));\n",
              "      fill: #FFFFFF;\n",
              "    }\n",
              "  </style>\n",
              "\n",
              "      <script>\n",
              "        const buttonEl =\n",
              "          document.querySelector('#df-88ff75b3-c932-4790-b69f-7241c6ee2311 button.colab-df-convert');\n",
              "        buttonEl.style.display =\n",
              "          google.colab.kernel.accessAllowed ? 'block' : 'none';\n",
              "\n",
              "        async function convertToInteractive(key) {\n",
              "          const element = document.querySelector('#df-88ff75b3-c932-4790-b69f-7241c6ee2311');\n",
              "          const dataTable =\n",
              "            await google.colab.kernel.invokeFunction('convertToInteractive',\n",
              "                                                     [key], {});\n",
              "          if (!dataTable) return;\n",
              "\n",
              "          const docLinkHtml = 'Like what you see? Visit the ' +\n",
              "            '<a target=\"_blank\" href=https://colab.research.google.com/notebooks/data_table.ipynb>data table notebook</a>'\n",
              "            + ' to learn more about interactive tables.';\n",
              "          element.innerHTML = '';\n",
              "          dataTable['output_type'] = 'display_data';\n",
              "          await google.colab.output.renderOutput(dataTable, element);\n",
              "          const docLink = document.createElement('div');\n",
              "          docLink.innerHTML = docLinkHtml;\n",
              "          element.appendChild(docLink);\n",
              "        }\n",
              "      </script>\n",
              "    </div>\n",
              "  </div>\n",
              "  "
            ]
          },
          "metadata": {},
          "execution_count": 3
        }
      ]
    },
    {
      "cell_type": "code",
      "source": [
        "df.shape"
      ],
      "metadata": {
        "colab": {
          "base_uri": "https://localhost:8080/"
        },
        "id": "v48h7SJP-US0",
        "outputId": "85eda846-41e9-46c3-ea73-8a98eae19213"
      },
      "execution_count": null,
      "outputs": [
        {
          "output_type": "execute_result",
          "data": {
            "text/plain": [
              "(46317, 16)"
            ]
          },
          "metadata": {},
          "execution_count": 4
        }
      ]
    },
    {
      "cell_type": "code",
      "source": [
        "df.info()"
      ],
      "metadata": {
        "colab": {
          "base_uri": "https://localhost:8080/"
        },
        "id": "vt_ePt_f-d-C",
        "outputId": "4ea1a70b-9b45-494a-e6b0-7f5664d968f6"
      },
      "execution_count": null,
      "outputs": [
        {
          "output_type": "stream",
          "name": "stdout",
          "text": [
            "<class 'pandas.core.frame.DataFrame'>\n",
            "Int64Index: 46317 entries, 0 to 46607\n",
            "Data columns (total 16 columns):\n",
            " #   Column          Non-Null Count  Dtype \n",
            "---  ------          --------------  ----- \n",
            " 0   Sno             46317 non-null  int64 \n",
            " 1   Agent_id        46317 non-null  object\n",
            " 2   status          46317 non-null  object\n",
            " 3   lost_reason     43244 non-null  object\n",
            " 4   budget          42623 non-null  object\n",
            " 5   lease           43981 non-null  object\n",
            " 6   movein          32707 non-null  object\n",
            " 7   source          40366 non-null  object\n",
            " 8   source_city     37486 non-null  object\n",
            " 9   source_country  37695 non-null  object\n",
            " 10  utm_source      46256 non-null  object\n",
            " 11  utm_medium      43133 non-null  object\n",
            " 12  des_city        43788 non-null  object\n",
            " 13  des_country     43788 non-null  object\n",
            " 14  room_type       22826 non-null  object\n",
            " 15  lead_id         46317 non-null  object\n",
            "dtypes: int64(1), object(15)\n",
            "memory usage: 6.0+ MB\n"
          ]
        }
      ]
    },
    {
      "cell_type": "code",
      "source": [
        "df.describe()"
      ],
      "metadata": {
        "id": "Y2ZTY0wq_xzN",
        "colab": {
          "base_uri": "https://localhost:8080/",
          "height": 300
        },
        "outputId": "a21e127b-ba5d-4b02-cb21-b8a7c28765d4"
      },
      "execution_count": null,
      "outputs": [
        {
          "output_type": "execute_result",
          "data": {
            "text/plain": [
              "                Sno\n",
              "count  46317.000000\n",
              "mean   23294.650819\n",
              "std    13456.284959\n",
              "min        0.000000\n",
              "25%    11638.000000\n",
              "50%    23295.000000\n",
              "75%    34949.000000\n",
              "max    46607.000000"
            ],
            "text/html": [
              "\n",
              "  <div id=\"df-62daed79-8a72-41b1-af43-dfc4bc3c7c23\">\n",
              "    <div class=\"colab-df-container\">\n",
              "      <div>\n",
              "<style scoped>\n",
              "    .dataframe tbody tr th:only-of-type {\n",
              "        vertical-align: middle;\n",
              "    }\n",
              "\n",
              "    .dataframe tbody tr th {\n",
              "        vertical-align: top;\n",
              "    }\n",
              "\n",
              "    .dataframe thead th {\n",
              "        text-align: right;\n",
              "    }\n",
              "</style>\n",
              "<table border=\"1\" class=\"dataframe\">\n",
              "  <thead>\n",
              "    <tr style=\"text-align: right;\">\n",
              "      <th></th>\n",
              "      <th>Sno</th>\n",
              "    </tr>\n",
              "  </thead>\n",
              "  <tbody>\n",
              "    <tr>\n",
              "      <th>count</th>\n",
              "      <td>46317.000000</td>\n",
              "    </tr>\n",
              "    <tr>\n",
              "      <th>mean</th>\n",
              "      <td>23294.650819</td>\n",
              "    </tr>\n",
              "    <tr>\n",
              "      <th>std</th>\n",
              "      <td>13456.284959</td>\n",
              "    </tr>\n",
              "    <tr>\n",
              "      <th>min</th>\n",
              "      <td>0.000000</td>\n",
              "    </tr>\n",
              "    <tr>\n",
              "      <th>25%</th>\n",
              "      <td>11638.000000</td>\n",
              "    </tr>\n",
              "    <tr>\n",
              "      <th>50%</th>\n",
              "      <td>23295.000000</td>\n",
              "    </tr>\n",
              "    <tr>\n",
              "      <th>75%</th>\n",
              "      <td>34949.000000</td>\n",
              "    </tr>\n",
              "    <tr>\n",
              "      <th>max</th>\n",
              "      <td>46607.000000</td>\n",
              "    </tr>\n",
              "  </tbody>\n",
              "</table>\n",
              "</div>\n",
              "      <button class=\"colab-df-convert\" onclick=\"convertToInteractive('df-62daed79-8a72-41b1-af43-dfc4bc3c7c23')\"\n",
              "              title=\"Convert this dataframe to an interactive table.\"\n",
              "              style=\"display:none;\">\n",
              "        \n",
              "  <svg xmlns=\"http://www.w3.org/2000/svg\" height=\"24px\"viewBox=\"0 0 24 24\"\n",
              "       width=\"24px\">\n",
              "    <path d=\"M0 0h24v24H0V0z\" fill=\"none\"/>\n",
              "    <path d=\"M18.56 5.44l.94 2.06.94-2.06 2.06-.94-2.06-.94-.94-2.06-.94 2.06-2.06.94zm-11 1L8.5 8.5l.94-2.06 2.06-.94-2.06-.94L8.5 2.5l-.94 2.06-2.06.94zm10 10l.94 2.06.94-2.06 2.06-.94-2.06-.94-.94-2.06-.94 2.06-2.06.94z\"/><path d=\"M17.41 7.96l-1.37-1.37c-.4-.4-.92-.59-1.43-.59-.52 0-1.04.2-1.43.59L10.3 9.45l-7.72 7.72c-.78.78-.78 2.05 0 2.83L4 21.41c.39.39.9.59 1.41.59.51 0 1.02-.2 1.41-.59l7.78-7.78 2.81-2.81c.8-.78.8-2.07 0-2.86zM5.41 20L4 18.59l7.72-7.72 1.47 1.35L5.41 20z\"/>\n",
              "  </svg>\n",
              "      </button>\n",
              "      \n",
              "  <style>\n",
              "    .colab-df-container {\n",
              "      display:flex;\n",
              "      flex-wrap:wrap;\n",
              "      gap: 12px;\n",
              "    }\n",
              "\n",
              "    .colab-df-convert {\n",
              "      background-color: #E8F0FE;\n",
              "      border: none;\n",
              "      border-radius: 50%;\n",
              "      cursor: pointer;\n",
              "      display: none;\n",
              "      fill: #1967D2;\n",
              "      height: 32px;\n",
              "      padding: 0 0 0 0;\n",
              "      width: 32px;\n",
              "    }\n",
              "\n",
              "    .colab-df-convert:hover {\n",
              "      background-color: #E2EBFA;\n",
              "      box-shadow: 0px 1px 2px rgba(60, 64, 67, 0.3), 0px 1px 3px 1px rgba(60, 64, 67, 0.15);\n",
              "      fill: #174EA6;\n",
              "    }\n",
              "\n",
              "    [theme=dark] .colab-df-convert {\n",
              "      background-color: #3B4455;\n",
              "      fill: #D2E3FC;\n",
              "    }\n",
              "\n",
              "    [theme=dark] .colab-df-convert:hover {\n",
              "      background-color: #434B5C;\n",
              "      box-shadow: 0px 1px 3px 1px rgba(0, 0, 0, 0.15);\n",
              "      filter: drop-shadow(0px 1px 2px rgba(0, 0, 0, 0.3));\n",
              "      fill: #FFFFFF;\n",
              "    }\n",
              "  </style>\n",
              "\n",
              "      <script>\n",
              "        const buttonEl =\n",
              "          document.querySelector('#df-62daed79-8a72-41b1-af43-dfc4bc3c7c23 button.colab-df-convert');\n",
              "        buttonEl.style.display =\n",
              "          google.colab.kernel.accessAllowed ? 'block' : 'none';\n",
              "\n",
              "        async function convertToInteractive(key) {\n",
              "          const element = document.querySelector('#df-62daed79-8a72-41b1-af43-dfc4bc3c7c23');\n",
              "          const dataTable =\n",
              "            await google.colab.kernel.invokeFunction('convertToInteractive',\n",
              "                                                     [key], {});\n",
              "          if (!dataTable) return;\n",
              "\n",
              "          const docLinkHtml = 'Like what you see? Visit the ' +\n",
              "            '<a target=\"_blank\" href=https://colab.research.google.com/notebooks/data_table.ipynb>data table notebook</a>'\n",
              "            + ' to learn more about interactive tables.';\n",
              "          element.innerHTML = '';\n",
              "          dataTable['output_type'] = 'display_data';\n",
              "          await google.colab.output.renderOutput(dataTable, element);\n",
              "          const docLink = document.createElement('div');\n",
              "          docLink.innerHTML = docLinkHtml;\n",
              "          element.appendChild(docLink);\n",
              "        }\n",
              "      </script>\n",
              "    </div>\n",
              "  </div>\n",
              "  "
            ]
          },
          "metadata": {},
          "execution_count": 6
        }
      ]
    },
    {
      "cell_type": "code",
      "source": [
        "df.isnull().sum()"
      ],
      "metadata": {
        "id": "2xk67HMv_5AF",
        "outputId": "0f213275-b41f-45ea-c04c-c1d7b0b6c2a4",
        "colab": {
          "base_uri": "https://localhost:8080/"
        }
      },
      "execution_count": null,
      "outputs": [
        {
          "output_type": "execute_result",
          "data": {
            "text/plain": [
              "Sno                   0\n",
              "Agent_id              0\n",
              "status                0\n",
              "lost_reason        3073\n",
              "budget             3694\n",
              "lease              2336\n",
              "movein            13610\n",
              "source             5951\n",
              "source_city        8831\n",
              "source_country     8622\n",
              "utm_source           61\n",
              "utm_medium         3184\n",
              "des_city           2529\n",
              "des_country        2529\n",
              "room_type         23491\n",
              "lead_id               0\n",
              "dtype: int64"
            ]
          },
          "metadata": {},
          "execution_count": 7
        }
      ]
    },
    {
      "cell_type": "code",
      "source": [],
      "metadata": {
        "id": "1eY_Ty7bApb5"
      },
      "execution_count": null,
      "outputs": []
    },
    {
      "cell_type": "code",
      "source": [
        "round(100*(df.isnull().sum()/len(df.index)), 2)"
      ],
      "metadata": {
        "id": "b9B9GKE_AK7G",
        "outputId": "9a9651d8-f9f9-4226-da29-3dccaca4ce07",
        "colab": {
          "base_uri": "https://localhost:8080/"
        }
      },
      "execution_count": null,
      "outputs": [
        {
          "output_type": "execute_result",
          "data": {
            "text/plain": [
              "Sno                0.00\n",
              "Agent_id           0.00\n",
              "status             0.00\n",
              "lost_reason        6.63\n",
              "budget             7.98\n",
              "lease              5.04\n",
              "movein            29.38\n",
              "source            12.85\n",
              "source_city       19.07\n",
              "source_country    18.62\n",
              "utm_source         0.13\n",
              "utm_medium         6.87\n",
              "des_city           5.46\n",
              "des_country        5.46\n",
              "room_type         50.72\n",
              "lead_id            0.00\n",
              "dtype: float64"
            ]
          },
          "metadata": {},
          "execution_count": 8
        }
      ]
    },
    {
      "cell_type": "code",
      "source": [
        "df['room_type'].describe()"
      ],
      "metadata": {
        "id": "A1qamKVXALDC",
        "outputId": "33d7748d-9b87-44ee-d6c3-3b87c013c5de",
        "colab": {
          "base_uri": "https://localhost:8080/"
        }
      },
      "execution_count": null,
      "outputs": [
        {
          "output_type": "execute_result",
          "data": {
            "text/plain": [
              "count       22826\n",
              "unique          5\n",
              "top       Ensuite\n",
              "freq        12379\n",
              "Name: room_type, dtype: object"
            ]
          },
          "metadata": {},
          "execution_count": 9
        }
      ]
    },
    {
      "cell_type": "code",
      "source": [
        "df['room_type'].value_counts(sort=False).plot.bar(rot=0)"
      ],
      "metadata": {
        "id": "Lhz2m5TYFOx6",
        "outputId": "5ebff25a-4e84-4980-ee89-559a1a733b9b",
        "colab": {
          "base_uri": "https://localhost:8080/",
          "height": 282
        }
      },
      "execution_count": null,
      "outputs": [
        {
          "output_type": "execute_result",
          "data": {
            "text/plain": [
              "<Axes: >"
            ]
          },
          "metadata": {},
          "execution_count": 10
        },
        {
          "output_type": "display_data",
          "data": {
            "text/plain": [
              "<Figure size 432x288 with 1 Axes>"
            ],
            "image/png": "[encoded data removed]"
          },
          "metadata": {
            "needs_background": "light"
          }
        }
      ]
    },
    {
      "cell_type": "code",
      "source": [
        "df['room_type'].value_counts()"
      ],
      "metadata": {
        "id": "ltL5D5t9G5wX",
        "outputId": "cd95a5a7-f1ee-409d-bb78-1524837ce534",
        "colab": {
          "base_uri": "https://localhost:8080/"
        }
      },
      "execution_count": null,
      "outputs": [
        {
          "output_type": "execute_result",
          "data": {
            "text/plain": [
              "Ensuite         12379\n",
              "Studio           6316\n",
              "Entire Place     4128\n",
              "Non-Ensuite         2\n",
              "Twin-Studio         1\n",
              "Name: room_type, dtype: int64"
            ]
          },
          "metadata": {},
          "execution_count": 11
        }
      ]
    },
    {
      "cell_type": "code",
      "source": [
        "df['room_type'].isnull().count()\n"
      ],
      "metadata": {
        "id": "HjHifBbMIb72",
        "outputId": "cb4736f6-4b17-4bab-ab88-d348f466cd54",
        "colab": {
          "base_uri": "https://localhost:8080/"
        }
      },
      "execution_count": null,
      "outputs": [
        {
          "output_type": "execute_result",
          "data": {
            "text/plain": [
              "46317"
            ]
          },
          "metadata": {},
          "execution_count": 12
        }
      ]
    },
    {
      "cell_type": "code",
      "source": [
        "df['room_type'] = df['room_type'].replace(np.nan, 'Not mentioned')"
      ],
      "metadata": {
        "id": "XukIHNIXJA1A"
      },
      "execution_count": null,
      "outputs": []
    },
    {
      "cell_type": "code",
      "source": [
        "df['room_type'].value_counts()"
      ],
      "metadata": {
        "id": "Ez78_Yr-JKKz",
        "outputId": "adefaab8-700c-444f-805a-d87b1fe28565",
        "colab": {
          "base_uri": "https://localhost:8080/"
        }
      },
      "execution_count": null,
      "outputs": [
        {
          "output_type": "execute_result",
          "data": {
            "text/plain": [
              "Not mentioned    23491\n",
              "Ensuite          12379\n",
              "Studio            6316\n",
              "Entire Place      4128\n",
              "Non-Ensuite          2\n",
              "Twin-Studio          1\n",
              "Name: room_type, dtype: int64"
            ]
          },
          "metadata": {},
          "execution_count": 14
        }
      ]
    },
    {
      "cell_type": "code",
      "source": [
        "df['room_type'].value_counts(sort=False).plot.bar(rot=0)"
      ],
      "metadata": {
        "id": "B0EhIvcEJPCT",
        "outputId": "f4b545b1-b94b-40eb-cc74-f038fc277ca7",
        "colab": {
          "base_uri": "https://localhost:8080/",
          "height": 282
        }
      },
      "execution_count": null,
      "outputs": [
        {
          "output_type": "execute_result",
          "data": {
            "text/plain": [
              "<Axes: >"
            ]
          },
          "metadata": {},
          "execution_count": 15
        },
        {
          "output_type": "display_data",
          "data": {
            "text/plain": [
              "<Figure size 432x288 with 1 Axes>"
            ],
            "image/png": "[encoded data removed]"
          },
          "metadata": {
            "needs_background": "light"
          }
        }
      ]
    },
    {
      "cell_type": "code",
      "source": [
        "round(100*(df.isnull().sum()/len(df.index)), 2)"
      ],
      "metadata": {
        "id": "foQAIJX9Jhxt",
        "outputId": "3492b700-3777-476f-d961-e4252cf8e57a",
        "colab": {
          "base_uri": "https://localhost:8080/"
        }
      },
      "execution_count": null,
      "outputs": [
        {
          "output_type": "execute_result",
          "data": {
            "text/plain": [
              "Sno                0.00\n",
              "Agent_id           0.00\n",
              "status             0.00\n",
              "lost_reason        6.63\n",
              "budget             7.98\n",
              "lease              5.04\n",
              "movein            29.38\n",
              "source            12.85\n",
              "source_city       19.07\n",
              "source_country    18.62\n",
              "utm_source         0.13\n",
              "utm_medium         6.87\n",
              "des_city           5.46\n",
              "des_country        5.46\n",
              "room_type          0.00\n",
              "lead_id            0.00\n",
              "dtype: float64"
            ]
          },
          "metadata": {},
          "execution_count": 16
        }
      ]
    },
    {
      "cell_type": "code",
      "source": [
        "df['movein'].describe()"
      ],
      "metadata": {
        "id": "kXxhzYdVJorF",
        "outputId": "d3c03e7e-97fb-4cd3-d603-02e9181413ed",
        "colab": {
          "base_uri": "https://localhost:8080/"
        }
      },
      "execution_count": null,
      "outputs": [
        {
          "output_type": "execute_result",
          "data": {
            "text/plain": [
              "count        32707\n",
              "unique         469\n",
              "top       10/09/22\n",
              "freq          2450\n",
              "Name: movein, dtype: object"
            ]
          },
          "metadata": {},
          "execution_count": 17
        }
      ]
    },
    {
      "cell_type": "code",
      "source": [
        "df['movein'].isnull().count()"
      ],
      "metadata": {
        "id": "8-pR6-NoJwmn",
        "outputId": "789bdc1c-a7af-45a1-fcfe-3bbcc40c4fdd",
        "colab": {
          "base_uri": "https://localhost:8080/"
        }
      },
      "execution_count": null,
      "outputs": [
        {
          "output_type": "execute_result",
          "data": {
            "text/plain": [
              "46317"
            ]
          },
          "metadata": {},
          "execution_count": 18
        }
      ]
    },
    {
      "cell_type": "code",
      "source": [
        "df['movein'].value_counts()"
      ],
      "metadata": {
        "id": "9O7arcjxJ3VB",
        "outputId": "77f38e54-df76-4bce-f37e-1087b99d52c7",
        "colab": {
          "base_uri": "https://localhost:8080/"
        }
      },
      "execution_count": null,
      "outputs": [
        {
          "output_type": "execute_result",
          "data": {
            "text/plain": [
              "10/09/22    2450\n",
              "31/08/22    2187\n",
              "01/09/22    2118\n",
              "09/09/22    1563\n",
              "17/09/22    1422\n",
              "            ... \n",
              "26/04/23       1\n",
              "10/06/23       1\n",
              "05/01/24       1\n",
              "06/09/06       1\n",
              "06/06/23       1\n",
              "Name: movein, Length: 469, dtype: int64"
            ]
          },
          "metadata": {},
          "execution_count": 19
        }
      ]
    },
    {
      "cell_type": "code",
      "source": [
        "df['movein'] = df['movein'].replace(np.nan, 'Not mentioned')"
      ],
      "metadata": {
        "id": "nrEWHAO7KIqE"
      },
      "execution_count": null,
      "outputs": []
    },
    {
      "cell_type": "code",
      "source": [
        "round(100*(df.isnull().sum()/len(df.index)), 2)"
      ],
      "metadata": {
        "colab": {
          "base_uri": "https://localhost:8080/"
        },
        "id": "lgwTr8Y1LpdS",
        "outputId": "db7da99b-ebfd-4afc-bdee-37cec14f2ee5"
      },
      "execution_count": null,
      "outputs": [
        {
          "output_type": "execute_result",
          "data": {
            "text/plain": [
              "Sno                0.00\n",
              "Agent_id           0.00\n",
              "status             0.00\n",
              "lost_reason        6.63\n",
              "budget             7.98\n",
              "lease              5.04\n",
              "movein             0.00\n",
              "source            12.85\n",
              "source_city       19.07\n",
              "source_country    18.62\n",
              "utm_source         0.13\n",
              "utm_medium         6.87\n",
              "des_city           5.46\n",
              "des_country        5.46\n",
              "room_type          0.00\n",
              "lead_id            0.00\n",
              "dtype: float64"
            ]
          },
          "metadata": {},
          "execution_count": 21
        }
      ]
    },
    {
      "cell_type": "code",
      "source": [
        "df['source_country'].describe()"
      ],
      "metadata": {
        "colab": {
          "base_uri": "https://localhost:8080/"
        },
        "id": "t67mb-3WL3C0",
        "outputId": "e62b1a8d-09bc-4751-84cc-af065fb25e1b"
      },
      "execution_count": null,
      "outputs": [
        {
          "output_type": "execute_result",
          "data": {
            "text/plain": [
              "count                                                 37695\n",
              "unique                                                  184\n",
              "top       e09e10e67812e9d236ad900e5d46b4308fc62f5d69446a...\n",
              "freq                                                  18667\n",
              "Name: source_country, dtype: object"
            ]
          },
          "metadata": {},
          "execution_count": 22
        }
      ]
    },
    {
      "cell_type": "code",
      "source": [
        "won = (len(df[df['status'].isin(['WON'])])/len(df['status'].index))*100\n",
        "won"
      ],
      "metadata": {
        "id": "2wVXp3KkAq5F",
        "outputId": "b1c80f5f-c16d-4d47-9a44-c7d8274804c2",
        "colab": {
          "base_uri": "https://localhost:8080/"
        }
      },
      "execution_count": null,
      "outputs": [
        {
          "output_type": "execute_result",
          "data": {
            "text/plain": [
              "6.634712956365914"
            ]
          },
          "metadata": {},
          "execution_count": 23
        }
      ]
    },
    {
      "cell_type": "markdown",
      "source": [
        "Can you see this\n"
      ],
      "metadata": {
        "id": "JOlZ7AgwMMvx"
      }
    },
    {
      "cell_type": "code",
      "source": [
        "df = df.drop(['utm_source','utm_medium'],axis=1)\n",
        "df"
      ],
      "metadata": {
        "id": "tZNUbjcQMMZ8",
        "colab": {
          "base_uri": "https://localhost:8080/",
          "height": 835
        },
        "outputId": "5809955d-e1c4-40d3-ca39-d0d84e98a863"
      },
      "execution_count": null,
      "outputs": [
        {
          "output_type": "execute_result",
          "data": {
            "text/plain": [
              "         Sno                                           Agent_id status  \\\n",
              "0          0  1deba9e96f404694373de9749ddd1ca8aa7bb823145a6f...   LOST   \n",
              "1          1  299ae77a4ef350ae0dd37d6bba1c002d03444fb1edb236...   LOST   \n",
              "2          2  c213697430c006013012dd2aca82dd9732aa0a1a6bca13...   LOST   \n",
              "3          3  eac9815a500f908736d303e23aa227f0957177b0e6756b...   LOST   \n",
              "4          4  1deba9e96f404694373de9749ddd1ca8aa7bb823145a6f...   LOST   \n",
              "...      ...                                                ...    ...   \n",
              "46603  46603  2306878a9ad9b57686cd623dd285aaa9b25afdf627f651...   LOST   \n",
              "46604  46604  327ec29056cc47c24bf922f7dc0f78261dad5c726d7353...   LOST   \n",
              "46605  46605  1134c0a7d44fdae1afd7f1f64e2789496784095ca0a050...   LOST   \n",
              "46606  46606  8b8b029f1142f5cbc825aa6cbee01406c915c6b055db79...   LOST   \n",
              "46607  46607  1ea65ea38f2f574b3875ba895e4ff76b284b7725041612...   LOST   \n",
              "\n",
              "            lost_reason                budget  \\\n",
              "0        Not responding                   NaN   \n",
              "1            Low budget                   NaN   \n",
              "2        Not responding  £121 - £180 Per Week   \n",
              "3            Low budget                   0-0   \n",
              "4             Junk lead                   NaN   \n",
              "...                 ...                   ...   \n",
              "46603  Low availability   £60 - £120 Per week   \n",
              "46604     Semester stay   £60 - £120 Per week   \n",
              "46605  Low availability  £241 - £300 Per week   \n",
              "46606  Low availability                  1108   \n",
              "46607  Low availability  £181 - £240 Per Week   \n",
              "\n",
              "                                            lease         movein  \\\n",
              "0                                             NaN  Not mentioned   \n",
              "1                                             NaN  Not mentioned   \n",
              "2             Full Year Course Stay 40 - 44 weeks       31/08/22   \n",
              "3                                               0  Not mentioned   \n",
              "4                                             NaN  Not mentioned   \n",
              "...                                           ...            ...   \n",
              "46603  Complete Education Year Stay 50 - 52 weeks       01/09/22   \n",
              "46604              Summer/Short Stay 8 - 12 weeks       29/09/22   \n",
              "46605         Full Year Course Stay 40 - 44 weeks       20/09/22   \n",
              "46606                                         294       30/08/22   \n",
              "46607         Full Year Course Stay 40 - 44 weeks       01/09/22   \n",
              "\n",
              "                                                  source  \\\n",
              "0                                                    NaN   \n",
              "1                                                    NaN   \n",
              "2      7aae3e886e89fc1187a5c47d6cea1c22998ee610ade1f2...   \n",
              "3      ba2d0a29556ac20f86f45e4543c0825428cba33fd7a9ea...   \n",
              "4                                                    NaN   \n",
              "...                                                  ...   \n",
              "46603                                                NaN   \n",
              "46604                                                NaN   \n",
              "46605  7aae3e886e89fc1187a5c47d6cea1c22998ee610ade1f2...   \n",
              "46606  d684761c17c11590f6e2525b48141cb2c0c6f2be5df4e2...   \n",
              "46607  7aae3e886e89fc1187a5c47d6cea1c22998ee610ade1f2...   \n",
              "\n",
              "                                             source_city  \\\n",
              "0                                                    NaN   \n",
              "1                                                    NaN   \n",
              "2      9b8cc3c63cdf447e463c11544924bf027945cbd29675f7...   \n",
              "3      a5f0d2d08eb0592087e3a3a2f9c1ba2c67cc30f2efd2bd...   \n",
              "4                                                    NaN   \n",
              "...                                                  ...   \n",
              "46603  7d1550b844ff586a6023216c06263105eed0a849a2a1f6...   \n",
              "46604  9f2ba6981e36ea0fca6c16f42e6413d788d2a7499b8b7f...   \n",
              "46605  7d1550b844ff586a6023216c06263105eed0a849a2a1f6...   \n",
              "46606  e9c722cbefc2f055ae60b4e2cbe73a2d99537eab0c37f3...   \n",
              "46607  1496126b7015defbc3b1d129a46096a5c135075aff2add...   \n",
              "\n",
              "                                          source_country  \\\n",
              "0                                                    NaN   \n",
              "1                                                    NaN   \n",
              "2      e09e10e67812e9d236ad900e5d46b4308fc62f5d69446a...   \n",
              "3      e09e10e67812e9d236ad900e5d46b4308fc62f5d69446a...   \n",
              "4                                                    NaN   \n",
              "...                                                  ...   \n",
              "46603  8da82000ef9c4468ba47362a924b895e40662fed846942...   \n",
              "46604  8da82000ef9c4468ba47362a924b895e40662fed846942...   \n",
              "46605  8da82000ef9c4468ba47362a924b895e40662fed846942...   \n",
              "46606  b936ee09e20b3b2234907cde349cda1c1a5327c4a486bf...   \n",
              "46607  e09e10e67812e9d236ad900e5d46b4308fc62f5d69446a...   \n",
              "\n",
              "                                                des_city  \\\n",
              "0      ecc0e7dc084f141b29479058967d0bc07dee25d9690a98...   \n",
              "1      5372372f3bf5896820cb2819300c3e681820d82c6efc54...   \n",
              "2      11ab03a1a8c367191355c152f39fe28cae5e426fce49ef...   \n",
              "3      19372fa44c57a01c37a5a8418779ca3d99b0b59731fb35...   \n",
              "4                                                    NaN   \n",
              "...                                                  ...   \n",
              "46603  13d4b96b6ee361b737e22404aeecca45f322ba7d4c2c42...   \n",
              "46604  998c18dc0e513ab0035c7b858e3780bbbead88695a15de...   \n",
              "46605  ecc0e7dc084f141b29479058967d0bc07dee25d9690a98...   \n",
              "46606  ecc0e7dc084f141b29479058967d0bc07dee25d9690a98...   \n",
              "46607  618738f7143c9b43a98a6b42d743a6595069a9b4dcf42d...   \n",
              "\n",
              "                                             des_country      room_type  \\\n",
              "0      8d23a6e37e0a6431a8f1b43a91026dcff51170a89a6512...  Not mentioned   \n",
              "1      8d23a6e37e0a6431a8f1b43a91026dcff51170a89a6512...  Not mentioned   \n",
              "2      8d23a6e37e0a6431a8f1b43a91026dcff51170a89a6512...        Ensuite   \n",
              "3      8d23a6e37e0a6431a8f1b43a91026dcff51170a89a6512...  Not mentioned   \n",
              "4                                                    NaN  Not mentioned   \n",
              "...                                                  ...            ...   \n",
              "46603  8d23a6e37e0a6431a8f1b43a91026dcff51170a89a6512...         Studio   \n",
              "46604  8d23a6e37e0a6431a8f1b43a91026dcff51170a89a6512...         Studio   \n",
              "46605  8d23a6e37e0a6431a8f1b43a91026dcff51170a89a6512...         Studio   \n",
              "46606  8d23a6e37e0a6431a8f1b43a91026dcff51170a89a6512...  Not mentioned   \n",
              "46607  8d23a6e37e0a6431a8f1b43a91026dcff51170a89a6512...         Studio   \n",
              "\n",
              "                                                 lead_id  \n",
              "0      cd5dc0d9393f3980d11d4ba6f88f8110c2b7a7f7796307...  \n",
              "1      b94693673a5f7178d1b114e4004ad52377d3244dd24a3d...  \n",
              "2      96ea4e2bf04496c044745938c0299c264c3f4ba079e572...  \n",
              "3      1d2b34d8add02a182a4129023766ca4585a8ddced0e5b3...  \n",
              "4      fc10fffd29cfbe93c55158fb47752a7501c211d253468c...  \n",
              "...                                                  ...  \n",
              "46603  1aaa4a4a9092e4c0eabf958ed9aea59c50d8ea3f08f691...  \n",
              "46604  1f90dbad4873cb9673ff3c7ec69fbac4289181453c6cea...  \n",
              "46605  d9e0f455b68a6573544ffac32292541a510fe2daffe2bb...  \n",
              "46606  1f90dbad4873cb9673ff3c7ec69fbac4289181453c6cea...  \n",
              "46607  7520a8abba2b44d7f37c0ddbe5f7f3d87540b2b7a670e9...  \n",
              "\n",
              "[46317 rows x 14 columns]"
            ],
            "text/html": [
              "\n",
              "  <div id=\"df-2085a6ca-f810-40c0-b7f1-3f4158ef8a46\">\n",
              "    <div class=\"colab-df-container\">\n",
              "      <div>\n",
              "<style scoped>\n",
              "    .dataframe tbody tr th:only-of-type {\n",
              "        vertical-align: middle;\n",
              "    }\n",
              "\n",
              "    .dataframe tbody tr th {\n",
              "        vertical-align: top;\n",
              "    }\n",
              "\n",
              "    .dataframe thead th {\n",
              "        text-align: right;\n",
              "    }\n",
              "</style>\n",
              "<table border=\"1\" class=\"dataframe\">\n",
              "  <thead>\n",
              "    <tr style=\"text-align: right;\">\n",
              "      <th></th>\n",
              "      <th>Sno</th>\n",
              "      <th>Agent_id</th>\n",
              "      <th>status</th>\n",
              "      <th>lost_reason</th>\n",
              "      <th>budget</th>\n",
              "      <th>lease</th>\n",
              "      <th>movein</th>\n",
              "      <th>source</th>\n",
              "      <th>source_city</th>\n",
              "      <th>source_country</th>\n",
              "      <th>des_city</th>\n",
              "      <th>des_country</th>\n",
              "      <th>room_type</th>\n",
              "      <th>lead_id</th>\n",
              "    </tr>\n",
              "  </thead>\n",
              "  <tbody>\n",
              "    <tr>\n",
              "      <th>0</th>\n",
              "      <td>0</td>\n",
              "      <td>1deba9e96f404694373de9749ddd1ca8aa7bb823145a6f...</td>\n",
              "      <td>LOST</td>\n",
              "      <td>Not responding</td>\n",
              "      <td>NaN</td>\n",
              "      <td>NaN</td>\n",
              "      <td>Not mentioned</td>\n",
              "      <td>NaN</td>\n",
              "      <td>NaN</td>\n",
              "      <td>NaN</td>\n",
              "      <td>ecc0e7dc084f141b29479058967d0bc07dee25d9690a98...</td>\n",
              "      <td>8d23a6e37e0a6431a8f1b43a91026dcff51170a89a6512...</td>\n",
              "      <td>Not mentioned</td>\n",
              "      <td>cd5dc0d9393f3980d11d4ba6f88f8110c2b7a7f7796307...</td>\n",
              "    </tr>\n",
              "    <tr>\n",
              "      <th>1</th>\n",
              "      <td>1</td>\n",
              "      <td>299ae77a4ef350ae0dd37d6bba1c002d03444fb1edb236...</td>\n",
              "      <td>LOST</td>\n",
              "      <td>Low budget</td>\n",
              "      <td>NaN</td>\n",
              "      <td>NaN</td>\n",
              "      <td>Not mentioned</td>\n",
              "      <td>NaN</td>\n",
              "      <td>NaN</td>\n",
              "      <td>NaN</td>\n",
              "      <td>5372372f3bf5896820cb2819300c3e681820d82c6efc54...</td>\n",
              "      <td>8d23a6e37e0a6431a8f1b43a91026dcff51170a89a6512...</td>\n",
              "      <td>Not mentioned</td>\n",
              "      <td>b94693673a5f7178d1b114e4004ad52377d3244dd24a3d...</td>\n",
              "    </tr>\n",
              "    <tr>\n",
              "      <th>2</th>\n",
              "      <td>2</td>\n",
              "      <td>c213697430c006013012dd2aca82dd9732aa0a1a6bca13...</td>\n",
              "      <td>LOST</td>\n",
              "      <td>Not responding</td>\n",
              "      <td>£121 - £180 Per Week</td>\n",
              "      <td>Full Year Course Stay 40 - 44 weeks</td>\n",
              "      <td>31/08/22</td>\n",
              "      <td>7aae3e886e89fc1187a5c47d6cea1c22998ee610ade1f2...</td>\n",
              "      <td>9b8cc3c63cdf447e463c11544924bf027945cbd29675f7...</td>\n",
              "      <td>e09e10e67812e9d236ad900e5d46b4308fc62f5d69446a...</td>\n",
              "      <td>11ab03a1a8c367191355c152f39fe28cae5e426fce49ef...</td>\n",
              "      <td>8d23a6e37e0a6431a8f1b43a91026dcff51170a89a6512...</td>\n",
              "      <td>Ensuite</td>\n",
              "      <td>96ea4e2bf04496c044745938c0299c264c3f4ba079e572...</td>\n",
              "    </tr>\n",
              "    <tr>\n",
              "      <th>3</th>\n",
              "      <td>3</td>\n",
              "      <td>eac9815a500f908736d303e23aa227f0957177b0e6756b...</td>\n",
              "      <td>LOST</td>\n",
              "      <td>Low budget</td>\n",
              "      <td>0-0</td>\n",
              "      <td>0</td>\n",
              "      <td>Not mentioned</td>\n",
              "      <td>ba2d0a29556ac20f86f45e4543c0825428cba33fd7a9ea...</td>\n",
              "      <td>a5f0d2d08eb0592087e3a3a2f9c1ba2c67cc30f2efd2bd...</td>\n",
              "      <td>e09e10e67812e9d236ad900e5d46b4308fc62f5d69446a...</td>\n",
              "      <td>19372fa44c57a01c37a5a8418779ca3d99b0b59731fb35...</td>\n",
              "      <td>8d23a6e37e0a6431a8f1b43a91026dcff51170a89a6512...</td>\n",
              "      <td>Not mentioned</td>\n",
              "      <td>1d2b34d8add02a182a4129023766ca4585a8ddced0e5b3...</td>\n",
              "    </tr>\n",
              "    <tr>\n",
              "      <th>4</th>\n",
              "      <td>4</td>\n",
              "      <td>1deba9e96f404694373de9749ddd1ca8aa7bb823145a6f...</td>\n",
              "      <td>LOST</td>\n",
              "      <td>Junk lead</td>\n",
              "      <td>NaN</td>\n",
              "      <td>NaN</td>\n",
              "      <td>Not mentioned</td>\n",
              "      <td>NaN</td>\n",
              "      <td>NaN</td>\n",
              "      <td>NaN</td>\n",
              "      <td>NaN</td>\n",
              "      <td>NaN</td>\n",
              "      <td>Not mentioned</td>\n",
              "      <td>fc10fffd29cfbe93c55158fb47752a7501c211d253468c...</td>\n",
              "    </tr>\n",
              "    <tr>\n",
              "      <th>...</th>\n",
              "      <td>...</td>\n",
              "      <td>...</td>\n",
              "      <td>...</td>\n",
              "      <td>...</td>\n",
              "      <td>...</td>\n",
              "      <td>...</td>\n",
              "      <td>...</td>\n",
              "      <td>...</td>\n",
              "      <td>...</td>\n",
              "      <td>...</td>\n",
              "      <td>...</td>\n",
              "      <td>...</td>\n",
              "      <td>...</td>\n",
              "      <td>...</td>\n",
              "    </tr>\n",
              "    <tr>\n",
              "      <th>46603</th>\n",
              "      <td>46603</td>\n",
              "      <td>2306878a9ad9b57686cd623dd285aaa9b25afdf627f651...</td>\n",
              "      <td>LOST</td>\n",
              "      <td>Low availability</td>\n",
              "      <td>£60 - £120 Per week</td>\n",
              "      <td>Complete Education Year Stay 50 - 52 weeks</td>\n",
              "      <td>01/09/22</td>\n",
              "      <td>NaN</td>\n",
              "      <td>7d1550b844ff586a6023216c06263105eed0a849a2a1f6...</td>\n",
              "      <td>8da82000ef9c4468ba47362a924b895e40662fed846942...</td>\n",
              "      <td>13d4b96b6ee361b737e22404aeecca45f322ba7d4c2c42...</td>\n",
              "      <td>8d23a6e37e0a6431a8f1b43a91026dcff51170a89a6512...</td>\n",
              "      <td>Studio</td>\n",
              "      <td>1aaa4a4a9092e4c0eabf958ed9aea59c50d8ea3f08f691...</td>\n",
              "    </tr>\n",
              "    <tr>\n",
              "      <th>46604</th>\n",
              "      <td>46604</td>\n",
              "      <td>327ec29056cc47c24bf922f7dc0f78261dad5c726d7353...</td>\n",
              "      <td>LOST</td>\n",
              "      <td>Semester stay</td>\n",
              "      <td>£60 - £120 Per week</td>\n",
              "      <td>Summer/Short Stay 8 - 12 weeks</td>\n",
              "      <td>29/09/22</td>\n",
              "      <td>NaN</td>\n",
              "      <td>9f2ba6981e36ea0fca6c16f42e6413d788d2a7499b8b7f...</td>\n",
              "      <td>8da82000ef9c4468ba47362a924b895e40662fed846942...</td>\n",
              "      <td>998c18dc0e513ab0035c7b858e3780bbbead88695a15de...</td>\n",
              "      <td>8d23a6e37e0a6431a8f1b43a91026dcff51170a89a6512...</td>\n",
              "      <td>Studio</td>\n",
              "      <td>1f90dbad4873cb9673ff3c7ec69fbac4289181453c6cea...</td>\n",
              "    </tr>\n",
              "    <tr>\n",
              "      <th>46605</th>\n",
              "      <td>46605</td>\n",
              "      <td>1134c0a7d44fdae1afd7f1f64e2789496784095ca0a050...</td>\n",
              "      <td>LOST</td>\n",
              "      <td>Low availability</td>\n",
              "      <td>£241 - £300 Per week</td>\n",
              "      <td>Full Year Course Stay 40 - 44 weeks</td>\n",
              "      <td>20/09/22</td>\n",
              "      <td>7aae3e886e89fc1187a5c47d6cea1c22998ee610ade1f2...</td>\n",
              "      <td>7d1550b844ff586a6023216c06263105eed0a849a2a1f6...</td>\n",
              "      <td>8da82000ef9c4468ba47362a924b895e40662fed846942...</td>\n",
              "      <td>ecc0e7dc084f141b29479058967d0bc07dee25d9690a98...</td>\n",
              "      <td>8d23a6e37e0a6431a8f1b43a91026dcff51170a89a6512...</td>\n",
              "      <td>Studio</td>\n",
              "      <td>d9e0f455b68a6573544ffac32292541a510fe2daffe2bb...</td>\n",
              "    </tr>\n",
              "    <tr>\n",
              "      <th>46606</th>\n",
              "      <td>46606</td>\n",
              "      <td>8b8b029f1142f5cbc825aa6cbee01406c915c6b055db79...</td>\n",
              "      <td>LOST</td>\n",
              "      <td>Low availability</td>\n",
              "      <td>1108</td>\n",
              "      <td>294</td>\n",
              "      <td>30/08/22</td>\n",
              "      <td>d684761c17c11590f6e2525b48141cb2c0c6f2be5df4e2...</td>\n",
              "      <td>e9c722cbefc2f055ae60b4e2cbe73a2d99537eab0c37f3...</td>\n",
              "      <td>b936ee09e20b3b2234907cde349cda1c1a5327c4a486bf...</td>\n",
              "      <td>ecc0e7dc084f141b29479058967d0bc07dee25d9690a98...</td>\n",
              "      <td>8d23a6e37e0a6431a8f1b43a91026dcff51170a89a6512...</td>\n",
              "      <td>Not mentioned</td>\n",
              "      <td>1f90dbad4873cb9673ff3c7ec69fbac4289181453c6cea...</td>\n",
              "    </tr>\n",
              "    <tr>\n",
              "      <th>46607</th>\n",
              "      <td>46607</td>\n",
              "      <td>1ea65ea38f2f574b3875ba895e4ff76b284b7725041612...</td>\n",
              "      <td>LOST</td>\n",
              "      <td>Low availability</td>\n",
              "      <td>£181 - £240 Per Week</td>\n",
              "      <td>Full Year Course Stay 40 - 44 weeks</td>\n",
              "      <td>01/09/22</td>\n",
              "      <td>7aae3e886e89fc1187a5c47d6cea1c22998ee610ade1f2...</td>\n",
              "      <td>1496126b7015defbc3b1d129a46096a5c135075aff2add...</td>\n",
              "      <td>e09e10e67812e9d236ad900e5d46b4308fc62f5d69446a...</td>\n",
              "      <td>618738f7143c9b43a98a6b42d743a6595069a9b4dcf42d...</td>\n",
              "      <td>8d23a6e37e0a6431a8f1b43a91026dcff51170a89a6512...</td>\n",
              "      <td>Studio</td>\n",
              "      <td>7520a8abba2b44d7f37c0ddbe5f7f3d87540b2b7a670e9...</td>\n",
              "    </tr>\n",
              "  </tbody>\n",
              "</table>\n",
              "<p>46317 rows × 14 columns</p>\n",
              "</div>\n",
              "      <button class=\"colab-df-convert\" onclick=\"convertToInteractive('df-2085a6ca-f810-40c0-b7f1-3f4158ef8a46')\"\n",
              "              title=\"Convert this dataframe to an interactive table.\"\n",
              "              style=\"display:none;\">\n",
              "        \n",
              "  <svg xmlns=\"http://www.w3.org/2000/svg\" height=\"24px\"viewBox=\"0 0 24 24\"\n",
              "       width=\"24px\">\n",
              "    <path d=\"M0 0h24v24H0V0z\" fill=\"none\"/>\n",
              "    <path d=\"M18.56 5.44l.94 2.06.94-2.06 2.06-.94-2.06-.94-.94-2.06-.94 2.06-2.06.94zm-11 1L8.5 8.5l.94-2.06 2.06-.94-2.06-.94L8.5 2.5l-.94 2.06-2.06.94zm10 10l.94 2.06.94-2.06 2.06-.94-2.06-.94-.94-2.06-.94 2.06-2.06.94z\"/><path d=\"M17.41 7.96l-1.37-1.37c-.4-.4-.92-.59-1.43-.59-.52 0-1.04.2-1.43.59L10.3 9.45l-7.72 7.72c-.78.78-.78 2.05 0 2.83L4 21.41c.39.39.9.59 1.41.59.51 0 1.02-.2 1.41-.59l7.78-7.78 2.81-2.81c.8-.78.8-2.07 0-2.86zM5.41 20L4 18.59l7.72-7.72 1.47 1.35L5.41 20z\"/>\n",
              "  </svg>\n",
              "      </button>\n",
              "      \n",
              "  <style>\n",
              "    .colab-df-container {\n",
              "      display:flex;\n",
              "      flex-wrap:wrap;\n",
              "      gap: 12px;\n",
              "    }\n",
              "\n",
              "    .colab-df-convert {\n",
              "      background-color: #E8F0FE;\n",
              "      border: none;\n",
              "      border-radius: 50%;\n",
              "      cursor: pointer;\n",
              "      display: none;\n",
              "      fill: #1967D2;\n",
              "      height: 32px;\n",
              "      padding: 0 0 0 0;\n",
              "      width: 32px;\n",
              "    }\n",
              "\n",
              "    .colab-df-convert:hover {\n",
              "      background-color: #E2EBFA;\n",
              "      box-shadow: 0px 1px 2px rgba(60, 64, 67, 0.3), 0px 1px 3px 1px rgba(60, 64, 67, 0.15);\n",
              "      fill: #174EA6;\n",
              "    }\n",
              "\n",
              "    [theme=dark] .colab-df-convert {\n",
              "      background-color: #3B4455;\n",
              "      fill: #D2E3FC;\n",
              "    }\n",
              "\n",
              "    [theme=dark] .colab-df-convert:hover {\n",
              "      background-color: #434B5C;\n",
              "      box-shadow: 0px 1px 3px 1px rgba(0, 0, 0, 0.15);\n",
              "      filter: drop-shadow(0px 1px 2px rgba(0, 0, 0, 0.3));\n",
              "      fill: #FFFFFF;\n",
              "    }\n",
              "  </style>\n",
              "\n",
              "      <script>\n",
              "        const buttonEl =\n",
              "          document.querySelector('#df-2085a6ca-f810-40c0-b7f1-3f4158ef8a46 button.colab-df-convert');\n",
              "        buttonEl.style.display =\n",
              "          google.colab.kernel.accessAllowed ? 'block' : 'none';\n",
              "\n",
              "        async function convertToInteractive(key) {\n",
              "          const element = document.querySelector('#df-2085a6ca-f810-40c0-b7f1-3f4158ef8a46');\n",
              "          const dataTable =\n",
              "            await google.colab.kernel.invokeFunction('convertToInteractive',\n",
              "                                                     [key], {});\n",
              "          if (!dataTable) return;\n",
              "\n",
              "          const docLinkHtml = 'Like what you see? Visit the ' +\n",
              "            '<a target=\"_blank\" href=https://colab.research.google.com/notebooks/data_table.ipynb>data table notebook</a>'\n",
              "            + ' to learn more about interactive tables.';\n",
              "          element.innerHTML = '';\n",
              "          dataTable['output_type'] = 'display_data';\n",
              "          await google.colab.output.renderOutput(dataTable, element);\n",
              "          const docLink = document.createElement('div');\n",
              "          docLink.innerHTML = docLinkHtml;\n",
              "          element.appendChild(docLink);\n",
              "        }\n",
              "      </script>\n",
              "    </div>\n",
              "  </div>\n",
              "  "
            ]
          },
          "metadata": {},
          "execution_count": 24
        }
      ]
    },
    {
      "cell_type": "code",
      "source": [
        "df = df.drop(['movein'],axis=1)"
      ],
      "metadata": {
        "id": "62hxvnnXQ-I1"
      },
      "execution_count": null,
      "outputs": []
    },
    {
      "cell_type": "code",
      "source": [
        "data_save1 =df"
      ],
      "metadata": {
        "id": "HwubzZ9-RIuo"
      },
      "execution_count": null,
      "outputs": []
    },
    {
      "cell_type": "code",
      "source": [
        "df.shape"
      ],
      "metadata": {
        "colab": {
          "base_uri": "https://localhost:8080/"
        },
        "id": "gj3JEnKtOb6B",
        "outputId": "5b1a36b6-865e-4b8f-dc58-85a5640710f7"
      },
      "execution_count": null,
      "outputs": [
        {
          "output_type": "execute_result",
          "data": {
            "text/plain": [
              "(46317, 13)"
            ]
          },
          "metadata": {},
          "execution_count": 27
        }
      ]
    },
    {
      "cell_type": "code",
      "source": [
        "round(100*(df.isnull().sum()/len(df.index)), 2)"
      ],
      "metadata": {
        "colab": {
          "base_uri": "https://localhost:8080/"
        },
        "id": "GtDvWC00OjW2",
        "outputId": "c3ea45bd-a44b-480f-9e66-e1912968da64"
      },
      "execution_count": null,
      "outputs": [
        {
          "output_type": "execute_result",
          "data": {
            "text/plain": [
              "Sno                0.00\n",
              "Agent_id           0.00\n",
              "status             0.00\n",
              "lost_reason        6.63\n",
              "budget             7.98\n",
              "lease              5.04\n",
              "source            12.85\n",
              "source_city       19.07\n",
              "source_country    18.62\n",
              "des_city           5.46\n",
              "des_country        5.46\n",
              "room_type          0.00\n",
              "lead_id            0.00\n",
              "dtype: float64"
            ]
          },
          "metadata": {},
          "execution_count": 28
        }
      ]
    },
    {
      "cell_type": "code",
      "source": [
        "df['source'].describe()"
      ],
      "metadata": {
        "colab": {
          "base_uri": "https://localhost:8080/"
        },
        "id": "wqVkVNukPznq",
        "outputId": "f091dff0-6624-4f60-a04e-37e5a10ae355"
      },
      "execution_count": null,
      "outputs": [
        {
          "output_type": "execute_result",
          "data": {
            "text/plain": [
              "count                                                 40366\n",
              "unique                                                  682\n",
              "top       7aae3e886e89fc1187a5c47d6cea1c22998ee610ade1f2...\n",
              "freq                                                  19092\n",
              "Name: source, dtype: object"
            ]
          },
          "metadata": {},
          "execution_count": 29
        }
      ]
    },
    {
      "cell_type": "code",
      "source": [
        "df['source'].isnull().count()"
      ],
      "metadata": {
        "colab": {
          "base_uri": "https://localhost:8080/"
        },
        "id": "jpAsfBQnP6Vt",
        "outputId": "71f6d17c-86fa-4c7d-a203-3029bde0d491"
      },
      "execution_count": null,
      "outputs": [
        {
          "output_type": "execute_result",
          "data": {
            "text/plain": [
              "46317"
            ]
          },
          "metadata": {},
          "execution_count": 30
        }
      ]
    },
    {
      "cell_type": "code",
      "source": [
        "df['budget'].describe()"
      ],
      "metadata": {
        "colab": {
          "base_uri": "https://localhost:8080/"
        },
        "id": "zBx_sZj5QFt4",
        "outputId": "53d401d2-bb84-4700-c408-4e50801e8108"
      },
      "execution_count": null,
      "outputs": [
        {
          "output_type": "execute_result",
          "data": {
            "text/plain": [
              "count                   42623\n",
              "unique                   1851\n",
              "top       £60 - £120 Per week\n",
              "freq                     9750\n",
              "Name: budget, dtype: object"
            ]
          },
          "metadata": {},
          "execution_count": 31
        }
      ]
    },
    {
      "cell_type": "code",
      "source": [
        "df['budget'].isnull().count()"
      ],
      "metadata": {
        "colab": {
          "base_uri": "https://localhost:8080/"
        },
        "id": "vbBDasb5R6Bq",
        "outputId": "af64ee2e-cd23-47dc-f911-4b79a26199e9"
      },
      "execution_count": null,
      "outputs": [
        {
          "output_type": "execute_result",
          "data": {
            "text/plain": [
              "46317"
            ]
          },
          "metadata": {},
          "execution_count": 32
        }
      ]
    },
    {
      "cell_type": "code",
      "source": [
        "round(100*(df.isnull().sum()/len(df.index)), 2)"
      ],
      "metadata": {
        "id": "zJv6Y5MDQUCv",
        "colab": {
          "base_uri": "https://localhost:8080/"
        },
        "outputId": "7c5c044c-f21d-447f-bded-fe376e7abf66"
      },
      "execution_count": null,
      "outputs": [
        {
          "output_type": "execute_result",
          "data": {
            "text/plain": [
              "Sno                0.00\n",
              "Agent_id           0.00\n",
              "status             0.00\n",
              "lost_reason        6.63\n",
              "budget             7.98\n",
              "lease              5.04\n",
              "source            12.85\n",
              "source_city       19.07\n",
              "source_country    18.62\n",
              "des_city           5.46\n",
              "des_country        5.46\n",
              "room_type          0.00\n",
              "lead_id            0.00\n",
              "dtype: float64"
            ]
          },
          "metadata": {},
          "execution_count": 33
        }
      ]
    },
    {
      "cell_type": "code",
      "source": [
        "df[df['status']=='WON']['lost_reason'].replace(np.NaN,'won')"
      ],
      "metadata": {
        "colab": {
          "base_uri": "https://localhost:8080/"
        },
        "id": "SfsGC6rvSXcu",
        "outputId": "84d013b3-d709-4a03-a688-874666836444"
      },
      "execution_count": null,
      "outputs": [
        {
          "output_type": "execute_result",
          "data": {
            "text/plain": [
              "98       won\n",
              "111      won\n",
              "139      won\n",
              "141      won\n",
              "152      won\n",
              "        ... \n",
              "46559    won\n",
              "46566    won\n",
              "46570    won\n",
              "46586    won\n",
              "46592    won\n",
              "Name: lost_reason, Length: 3073, dtype: object"
            ]
          },
          "metadata": {},
          "execution_count": 34
        }
      ]
    },
    {
      "cell_type": "code",
      "source": [
        "df.loc[df['status']=='WON','lost_reason'] = df.loc[df['status']=='WON','lost_reason'].replace(np.NaN,'won')\n",
        "\n"
      ],
      "metadata": {
        "id": "7UaYziSfS9A-"
      },
      "execution_count": null,
      "outputs": []
    },
    {
      "cell_type": "code",
      "source": [
        "df.columns"
      ],
      "metadata": {
        "colab": {
          "base_uri": "https://localhost:8080/"
        },
        "id": "uMTcY5Rcm-1F",
        "outputId": "5cb9259e-0ed6-4c42-f766-bb4b2ab86f54"
      },
      "execution_count": null,
      "outputs": [
        {
          "output_type": "execute_result",
          "data": {
            "text/plain": [
              "Index(['Sno', 'Agent_id', 'status', 'lost_reason', 'budget', 'lease', 'source',\n",
              "       'source_city', 'source_country', 'des_city', 'des_country', 'room_type',\n",
              "       'lead_id'],\n",
              "      dtype='object')"
            ]
          },
          "metadata": {},
          "execution_count": 36
        }
      ]
    },
    {
      "cell_type": "code",
      "source": [
        "df.nunique()"
      ],
      "metadata": {
        "colab": {
          "base_uri": "https://localhost:8080/"
        },
        "id": "XdSHLjxunK4I",
        "outputId": "b00b05e4-43ce-47a6-dbe0-fc0ae0e5682f"
      },
      "execution_count": null,
      "outputs": [
        {
          "output_type": "execute_result",
          "data": {
            "text/plain": [
              "Sno               46317\n",
              "Agent_id            120\n",
              "status                2\n",
              "lost_reason          31\n",
              "budget             1851\n",
              "lease               311\n",
              "source              682\n",
              "source_city        4315\n",
              "source_country      184\n",
              "des_city            219\n",
              "des_country          14\n",
              "room_type             6\n",
              "lead_id           30491\n",
              "dtype: int64"
            ]
          },
          "metadata": {},
          "execution_count": 44
        }
      ]
    },
    {
      "cell_type": "code",
      "source": [
        "chi2_selector= SelectKBest(chi2,k=5)\n",
        "X_kbest=chi2_selector.fit_transform()"
      ],
      "metadata": {
        "id": "Lf7SZUUdq-6w"
      },
      "execution_count": null,
      "outputs": []
    },
    {
      "cell_type": "code",
      "source": [
        "#function to calculate chisqaure metrics\n",
        "from scipy import stats\n",
        "from sklearn.feature_selection import SelectKBest,SelectPercentile,chi2,mutual_info_classif\n",
        "def chi_sq_test(A,B):\n",
        "    contingTab=pd.crosstab(A,B)\n",
        "    l=[]\n",
        "    for i in list(list(contingTab.index)):\n",
        "            l.append(contingTab.transpose()[i][0:2].values)\n",
        "    contab=np.array(l)\n",
        "    chi2,p,dof,expected=stats.chi2_contingency(contab)\n",
        "    print(f'chi2 : {chi2}\\np-value : {p}\\ndof : {dof}')\n",
        "\n",
        "A=df['Agent_id']\n"
      ],
      "metadata": {
        "id": "O3VXbTg-pe-m"
      },
      "execution_count": null,
      "outputs": []
    },
    {
      "cell_type": "code",
      "source": [
        "chi_sq_test(df['source_city'],df['status'])"
      ],
      "metadata": {
        "colab": {
          "base_uri": "https://localhost:8080/"
        },
        "id": "zKHIkktzshhn",
        "outputId": "e9db23d8-492c-4f6b-a168-a1a28f3bf347"
      },
      "execution_count": null,
      "outputs": [
        {
          "output_type": "stream",
          "name": "stdout",
          "text": [
            "chi2 : 4029.4654830410423\n",
            "p-value : 0.9991142239722209\n",
            "dof : 4314\n"
          ]
        }
      ]
    },
    {
      "cell_type": "code",
      "source": [
        "df=df.drop(['source_city'],axis=1)"
      ],
      "metadata": {
        "id": "EVuoVanIt54M"
      },
      "execution_count": null,
      "outputs": []
    },
    {
      "cell_type": "code",
      "source": [
        "l=list(df.columns)\n",
        "for i in l:\n",
        "  if i!='status' and i!='Sno':\n",
        "    print(i)\n",
        "    chi_sq_test(df[i],df['status'])"
      ],
      "metadata": {
        "colab": {
          "base_uri": "https://localhost:8080/"
        },
        "id": "W6DA0N0JuWUN",
        "outputId": "809e3d78-b81b-41bc-c453-9689dcd50cd1"
      },
      "execution_count": null,
      "outputs": [
        {
          "output_type": "stream",
          "name": "stdout",
          "text": [
            "Agent_id\n",
            "chi2 : 1246.019325988118\n",
            "p-value : 4.958524714847613e-187\n",
            "dof : 119\n",
            "lost_reason\n",
            "chi2 : 46316.99999999999\n",
            "p-value : 0.0\n",
            "dof : 30\n",
            "budget\n",
            "chi2 : 4391.283908812822\n",
            "p-value : 2.569473460715929e-207\n",
            "dof : 1850\n",
            "lease\n",
            "chi2 : 2107.580257400343\n",
            "p-value : 2.676096983439987e-264\n",
            "dof : 310\n",
            "source\n",
            "chi2 : 3560.2546660145827\n",
            "p-value : 0.0\n",
            "dof : 681\n",
            "source_country\n",
            "chi2 : 371.28303364360465\n",
            "p-value : 6.718913547862913e-15\n",
            "dof : 183\n",
            "des_city\n",
            "chi2 : 1805.4262888628596\n",
            "p-value : 1.2280166367104508e-247\n",
            "dof : 218\n",
            "des_country\n",
            "chi2 : 88.21747602719948\n",
            "p-value : 3.060627715264895e-13\n",
            "dof : 13\n",
            "room_type\n",
            "chi2 : 59.37316649922035\n",
            "p-value : 1.6377154420105805e-11\n",
            "dof : 5\n",
            "lead_id\n",
            "chi2 : 30666.066781592574\n",
            "p-value : 0.23751433686922638\n",
            "dof : 30490\n"
          ]
        }
      ]
    },
    {
      "cell_type": "code",
      "source": [
        "chi_sq_test(df['source'],df['status'])"
      ],
      "metadata": {
        "colab": {
          "base_uri": "https://localhost:8080/"
        },
        "id": "x9YZLiIauS1Q",
        "outputId": "37d9ccf3-3e9b-42f1-cf0a-1e48554a68a4"
      },
      "execution_count": null,
      "outputs": [
        {
          "output_type": "stream",
          "name": "stdout",
          "text": [
            "chi2 : 3560.2546660145827\n",
            "p-value : 0.0\n",
            "dof : 681\n"
          ]
        }
      ]
    },
    {
      "cell_type": "code",
      "source": [
        "Y=df['status']\n",
        "X=df.drop(['status','Sno'],axis=1)"
      ],
      "metadata": {
        "id": "-7W338bRuL7-"
      },
      "execution_count": null,
      "outputs": []
    },
    {
      "cell_type": "code",
      "source": [
        "Y"
      ],
      "metadata": {
        "colab": {
          "base_uri": "https://localhost:8080/"
        },
        "id": "R3aEQmbetsr3",
        "outputId": "237c6e8c-c4f1-436b-91cc-a79abf544f2d"
      },
      "execution_count": null,
      "outputs": [
        {
          "output_type": "execute_result",
          "data": {
            "text/plain": [
              "0        LOST\n",
              "1        LOST\n",
              "2        LOST\n",
              "3        LOST\n",
              "4        LOST\n",
              "         ... \n",
              "46603    LOST\n",
              "46604    LOST\n",
              "46605    LOST\n",
              "46606    LOST\n",
              "46607    LOST\n",
              "Name: status, Length: 46317, dtype: object"
            ]
          },
          "metadata": {},
          "execution_count": 59
        }
      ]
    },
    {
      "cell_type": "code",
      "source": [
        "X"
      ],
      "metadata": {
        "id": "jols2PzZvw6b"
      },
      "execution_count": null,
      "outputs": []
    },
    {
      "cell_type": "code",
      "source": [
        "df.isna().sum()"
      ],
      "metadata": {
        "colab": {
          "base_uri": "https://localhost:8080/"
        },
        "id": "yU774mj3USLT",
        "outputId": "ea812670-4225-4211-fbe7-6ab1cda7921f"
      },
      "execution_count": null,
      "outputs": [
        {
          "output_type": "execute_result",
          "data": {
            "text/plain": [
              "Sno                  0\n",
              "Agent_id             0\n",
              "status               0\n",
              "lost_reason          0\n",
              "budget            3694\n",
              "lease             2336\n",
              "source            5951\n",
              "source_country    8622\n",
              "des_city          2529\n",
              "des_country       2529\n",
              "room_type            0\n",
              "lead_id              0\n",
              "dtype: int64"
            ]
          },
          "metadata": {},
          "execution_count": 61
        }
      ]
    },
    {
      "cell_type": "code",
      "source": [
        "from sklearn.impute import SimpleImputer\n",
        "si = SimpleImputer(strategy='most_frequent')\n",
        "df['budget'] = si.fit_transform(df[['budget']])\n",
        "df['lease'] = si.fit_transform(df[['lease']])\n",
        "df['source'] = si.fit_transform(df[['source']])\n",
        "df['source_country'] = si.fit_transform(df[['source_country']])\n",
        "df['des_city'] = si.fit_transform(df[['des_city']])\n",
        "df['des_country'] = si.fit_transform(df[['des_country']])"
      ],
      "metadata": {
        "id": "01p83UqHUcqY"
      },
      "execution_count": null,
      "outputs": []
    },
    {
      "cell_type": "code",
      "source": [
        "df.isna().sum()"
      ],
      "metadata": {
        "colab": {
          "base_uri": "https://localhost:8080/"
        },
        "id": "n-7VbwSmoL-w",
        "outputId": "bbef5a14-acdc-4b80-e709-eeadfa68bdc3"
      },
      "execution_count": null,
      "outputs": [
        {
          "output_type": "execute_result",
          "data": {
            "text/plain": [
              "Sno               0\n",
              "Agent_id          0\n",
              "status            0\n",
              "lost_reason       0\n",
              "budget            0\n",
              "lease             0\n",
              "source            0\n",
              "source_country    0\n",
              "des_city          0\n",
              "des_country       0\n",
              "room_type         0\n",
              "lead_id           0\n",
              "dtype: int64"
            ]
          },
          "metadata": {},
          "execution_count": 70
        }
      ]
    },
    {
      "cell_type": "code",
      "source": [
        "from sklearn.linear_model import LogisticRegression\n",
        "from sklearn.linear_model import Perceptron\n",
        "from sklearn.linear_model import SGDClassifier\n",
        "from sklearn.naive_bayes import GaussianNB\n",
        "from sklearn.ensemble import RandomForestClassifier,BaggingClassifier,AdaBoostClassifier\n",
        "from sklearn.ensemble import GradientBoostingClassifier\n",
        "from sklearn.neighbors import KNeighborsClassifier\n",
        "from sklearn.svm import SVC, LinearSVC,NuSVC\n",
        "from sklearn.tree import DecisionTreeClassifier\n",
        "from xgboost import XGBClassifier\n",
        "from sklearn.metrics import classification_report,confusion_matrix,f1_score\n",
        "from sklearn.metrics import ConfusionMatrixDisplay\n",
        "from sklearn.linear_model import RidgeClassifier,RidgeClassifierCV\n",
        "from sklearn.model_selection import cross_validate\n",
        "from sklearn.model_selection import GridSearchCV,RandomizedSearchCV\n",
        "from sklearn.neural_network import MLPClassifier\n",
        "from sklearn.model_selection import StratifiedKFold"
      ],
      "metadata": {
        "id": "ZC5KK8Bwx0o3"
      },
      "execution_count": null,
      "outputs": []
    },
    {
      "cell_type": "code",
      "source": [
        "df2=pd.get_dummies(X)"
      ],
      "metadata": {
        "id": "8smfkl7bz8xL"
      },
      "execution_count": null,
      "outputs": []
    },
    {
      "cell_type": "code",
      "source": [
        "y=df['status']\n",
        "X=df.drop(['status','Sno','lead_id'],axis=1)"
      ],
      "metadata": {
        "id": "XQ2WdUHpzlJd"
      },
      "execution_count": null,
      "outputs": []
    },
    {
      "cell_type": "code",
      "source": [
        "y=y.replace(\"WON\",1)\n",
        "y=y.replace(\"LOST\",0)\n",
        "y.nunique()"
      ],
      "metadata": {
        "colab": {
          "base_uri": "https://localhost:8080/"
        },
        "id": "9DygxCp12JtR",
        "outputId": "74653291-d1ca-46e6-fb09-e75fa39d5505"
      },
      "execution_count": null,
      "outputs": [
        {
          "output_type": "execute_result",
          "data": {
            "text/plain": [
              "2"
            ]
          },
          "metadata": {},
          "execution_count": 93
        }
      ]
    },
    {
      "cell_type": "code",
      "source": [
        "y.unique()"
      ],
      "metadata": {
        "colab": {
          "base_uri": "https://localhost:8080/"
        },
        "id": "oV-MlAml2yGB",
        "outputId": "883fc09d-8c50-4bdd-f964-05526921bd19"
      },
      "execution_count": null,
      "outputs": [
        {
          "output_type": "execute_result",
          "data": {
            "text/plain": [
              "array([0, 1])"
            ]
          },
          "metadata": {},
          "execution_count": 94
        }
      ]
    },
    {
      "cell_type": "code",
      "source": [
        "from sklearn.preprocessing import LabelEncoder\n",
        "si = LabelEncoder()\n",
        "X['budget'] = si.fit_transform(X[['budget']])\n",
        "X['lease'] = si.fit_transform(X[['lease']])\n",
        "X['room_type'] = si.fit_transform(X[['room_type']])\n",
        "\n"
      ],
      "metadata": {
        "colab": {
          "base_uri": "https://localhost:8080/"
        },
        "id": "9kYKfx3N0MQE",
        "outputId": "da5ebd23-9de5-4278-f71d-24c27b405a4a"
      },
      "execution_count": null,
      "outputs": [
        {
          "output_type": "stream",
          "name": "stderr",
          "text": [
            "/usr/local/lib/python3.9/dist-packages/sklearn/preprocessing/_label.py:116: DataConversionWarning: A column-vector y was passed when a 1d array was expected. Please change the shape of y to (n_samples, ), for example using ravel().\n",
            "  y = column_or_1d(y, warn=True)\n",
            "/usr/local/lib/python3.9/dist-packages/sklearn/preprocessing/_label.py:116: DataConversionWarning: A column-vector y was passed when a 1d array was expected. Please change the shape of y to (n_samples, ), for example using ravel().\n",
            "  y = column_or_1d(y, warn=True)\n",
            "/usr/local/lib/python3.9/dist-packages/sklearn/preprocessing/_label.py:116: DataConversionWarning: A column-vector y was passed when a 1d array was expected. Please change the shape of y to (n_samples, ), for example using ravel().\n",
            "  y = column_or_1d(y, warn=True)\n"
          ]
        }
      ]
    },
    {
      "cell_type": "code",
      "source": [
        "X"
      ],
      "metadata": {
        "colab": {
          "base_uri": "https://localhost:8080/",
          "height": 609
        },
        "id": "vuSgB4Tz1iu1",
        "outputId": "ad3b4034-ec30-4fb7-91ee-be45b10e2bcc"
      },
      "execution_count": null,
      "outputs": [
        {
          "output_type": "execute_result",
          "data": {
            "text/plain": [
              "                                                Agent_id       lost_reason  \\\n",
              "0      1deba9e96f404694373de9749ddd1ca8aa7bb823145a6f...    Not responding   \n",
              "1      299ae77a4ef350ae0dd37d6bba1c002d03444fb1edb236...        Low budget   \n",
              "2      c213697430c006013012dd2aca82dd9732aa0a1a6bca13...    Not responding   \n",
              "3      eac9815a500f908736d303e23aa227f0957177b0e6756b...        Low budget   \n",
              "4      1deba9e96f404694373de9749ddd1ca8aa7bb823145a6f...         Junk lead   \n",
              "...                                                  ...               ...   \n",
              "46603  2306878a9ad9b57686cd623dd285aaa9b25afdf627f651...  Low availability   \n",
              "46604  327ec29056cc47c24bf922f7dc0f78261dad5c726d7353...     Semester stay   \n",
              "46605  1134c0a7d44fdae1afd7f1f64e2789496784095ca0a050...  Low availability   \n",
              "46606  8b8b029f1142f5cbc825aa6cbee01406c915c6b055db79...  Low availability   \n",
              "46607  1ea65ea38f2f574b3875ba895e4ff76b284b7725041612...  Low availability   \n",
              "\n",
              "       budget  lease                                             source  \\\n",
              "0        1834    266  7aae3e886e89fc1187a5c47d6cea1c22998ee610ade1f2...   \n",
              "1        1834    266  7aae3e886e89fc1187a5c47d6cea1c22998ee610ade1f2...   \n",
              "2        1752    266  7aae3e886e89fc1187a5c47d6cea1c22998ee610ade1f2...   \n",
              "3          10      2  ba2d0a29556ac20f86f45e4543c0825428cba33fd7a9ea...   \n",
              "4        1834    266  7aae3e886e89fc1187a5c47d6cea1c22998ee610ade1f2...   \n",
              "...       ...    ...                                                ...   \n",
              "46603    1834    263  7aae3e886e89fc1187a5c47d6cea1c22998ee610ade1f2...   \n",
              "46604    1834    286  7aae3e886e89fc1187a5c47d6cea1c22998ee610ade1f2...   \n",
              "46605    1810    266  7aae3e886e89fc1187a5c47d6cea1c22998ee610ade1f2...   \n",
              "46606     815     93  d684761c17c11590f6e2525b48141cb2c0c6f2be5df4e2...   \n",
              "46607    1793    266  7aae3e886e89fc1187a5c47d6cea1c22998ee610ade1f2...   \n",
              "\n",
              "                                          source_country  \\\n",
              "0      e09e10e67812e9d236ad900e5d46b4308fc62f5d69446a...   \n",
              "1      e09e10e67812e9d236ad900e5d46b4308fc62f5d69446a...   \n",
              "2      e09e10e67812e9d236ad900e5d46b4308fc62f5d69446a...   \n",
              "3      e09e10e67812e9d236ad900e5d46b4308fc62f5d69446a...   \n",
              "4      e09e10e67812e9d236ad900e5d46b4308fc62f5d69446a...   \n",
              "...                                                  ...   \n",
              "46603  8da82000ef9c4468ba47362a924b895e40662fed846942...   \n",
              "46604  8da82000ef9c4468ba47362a924b895e40662fed846942...   \n",
              "46605  8da82000ef9c4468ba47362a924b895e40662fed846942...   \n",
              "46606  b936ee09e20b3b2234907cde349cda1c1a5327c4a486bf...   \n",
              "46607  e09e10e67812e9d236ad900e5d46b4308fc62f5d69446a...   \n",
              "\n",
              "                                                des_city  \\\n",
              "0      ecc0e7dc084f141b29479058967d0bc07dee25d9690a98...   \n",
              "1      5372372f3bf5896820cb2819300c3e681820d82c6efc54...   \n",
              "2      11ab03a1a8c367191355c152f39fe28cae5e426fce49ef...   \n",
              "3      19372fa44c57a01c37a5a8418779ca3d99b0b59731fb35...   \n",
              "4      ecc0e7dc084f141b29479058967d0bc07dee25d9690a98...   \n",
              "...                                                  ...   \n",
              "46603  13d4b96b6ee361b737e22404aeecca45f322ba7d4c2c42...   \n",
              "46604  998c18dc0e513ab0035c7b858e3780bbbead88695a15de...   \n",
              "46605  ecc0e7dc084f141b29479058967d0bc07dee25d9690a98...   \n",
              "46606  ecc0e7dc084f141b29479058967d0bc07dee25d9690a98...   \n",
              "46607  618738f7143c9b43a98a6b42d743a6595069a9b4dcf42d...   \n",
              "\n",
              "                                             des_country  room_type  \n",
              "0      8d23a6e37e0a6431a8f1b43a91026dcff51170a89a6512...          3  \n",
              "1      8d23a6e37e0a6431a8f1b43a91026dcff51170a89a6512...          3  \n",
              "2      8d23a6e37e0a6431a8f1b43a91026dcff51170a89a6512...          0  \n",
              "3      8d23a6e37e0a6431a8f1b43a91026dcff51170a89a6512...          3  \n",
              "4      8d23a6e37e0a6431a8f1b43a91026dcff51170a89a6512...          3  \n",
              "...                                                  ...        ...  \n",
              "46603  8d23a6e37e0a6431a8f1b43a91026dcff51170a89a6512...          4  \n",
              "46604  8d23a6e37e0a6431a8f1b43a91026dcff51170a89a6512...          4  \n",
              "46605  8d23a6e37e0a6431a8f1b43a91026dcff51170a89a6512...          4  \n",
              "46606  8d23a6e37e0a6431a8f1b43a91026dcff51170a89a6512...          3  \n",
              "46607  8d23a6e37e0a6431a8f1b43a91026dcff51170a89a6512...          4  \n",
              "\n",
              "[46317 rows x 9 columns]"
            ],
            "text/html": [
              "\n",
              "  <div id=\"df-def3d909-3c08-416c-8eae-7ab73cd0f30d\">\n",
              "    <div class=\"colab-df-container\">\n",
              "      <div>\n",
              "<style scoped>\n",
              "    .dataframe tbody tr th:only-of-type {\n",
              "        vertical-align: middle;\n",
              "    }\n",
              "\n",
              "    .dataframe tbody tr th {\n",
              "        vertical-align: top;\n",
              "    }\n",
              "\n",
              "    .dataframe thead th {\n",
              "        text-align: right;\n",
              "    }\n",
              "</style>\n",
              "<table border=\"1\" class=\"dataframe\">\n",
              "  <thead>\n",
              "    <tr style=\"text-align: right;\">\n",
              "      <th></th>\n",
              "      <th>Agent_id</th>\n",
              "      <th>lost_reason</th>\n",
              "      <th>budget</th>\n",
              "      <th>lease</th>\n",
              "      <th>source</th>\n",
              "      <th>source_country</th>\n",
              "      <th>des_city</th>\n",
              "      <th>des_country</th>\n",
              "      <th>room_type</th>\n",
              "    </tr>\n",
              "  </thead>\n",
              "  <tbody>\n",
              "    <tr>\n",
              "      <th>0</th>\n",
              "      <td>1deba9e96f404694373de9749ddd1ca8aa7bb823145a6f...</td>\n",
              "      <td>Not responding</td>\n",
              "      <td>1834</td>\n",
              "      <td>266</td>\n",
              "      <td>7aae3e886e89fc1187a5c47d6cea1c22998ee610ade1f2...</td>\n",
              "      <td>e09e10e67812e9d236ad900e5d46b4308fc62f5d69446a...</td>\n",
              "      <td>ecc0e7dc084f141b29479058967d0bc07dee25d9690a98...</td>\n",
              "      <td>8d23a6e37e0a6431a8f1b43a91026dcff51170a89a6512...</td>\n",
              "      <td>3</td>\n",
              "    </tr>\n",
              "    <tr>\n",
              "      <th>1</th>\n",
              "      <td>299ae77a4ef350ae0dd37d6bba1c002d03444fb1edb236...</td>\n",
              "      <td>Low budget</td>\n",
              "      <td>1834</td>\n",
              "      <td>266</td>\n",
              "      <td>7aae3e886e89fc1187a5c47d6cea1c22998ee610ade1f2...</td>\n",
              "      <td>e09e10e67812e9d236ad900e5d46b4308fc62f5d69446a...</td>\n",
              "      <td>5372372f3bf5896820cb2819300c3e681820d82c6efc54...</td>\n",
              "      <td>8d23a6e37e0a6431a8f1b43a91026dcff51170a89a6512...</td>\n",
              "      <td>3</td>\n",
              "    </tr>\n",
              "    <tr>\n",
              "      <th>2</th>\n",
              "      <td>c213697430c006013012dd2aca82dd9732aa0a1a6bca13...</td>\n",
              "      <td>Not responding</td>\n",
              "      <td>1752</td>\n",
              "      <td>266</td>\n",
              "      <td>7aae3e886e89fc1187a5c47d6cea1c22998ee610ade1f2...</td>\n",
              "      <td>e09e10e67812e9d236ad900e5d46b4308fc62f5d69446a...</td>\n",
              "      <td>11ab03a1a8c367191355c152f39fe28cae5e426fce49ef...</td>\n",
              "      <td>8d23a6e37e0a6431a8f1b43a91026dcff51170a89a6512...</td>\n",
              "      <td>0</td>\n",
              "    </tr>\n",
              "    <tr>\n",
              "      <th>3</th>\n",
              "      <td>eac9815a500f908736d303e23aa227f0957177b0e6756b...</td>\n",
              "      <td>Low budget</td>\n",
              "      <td>10</td>\n",
              "      <td>2</td>\n",
              "      <td>ba2d0a29556ac20f86f45e4543c0825428cba33fd7a9ea...</td>\n",
              "      <td>e09e10e67812e9d236ad900e5d46b4308fc62f5d69446a...</td>\n",
              "      <td>19372fa44c57a01c37a5a8418779ca3d99b0b59731fb35...</td>\n",
              "      <td>8d23a6e37e0a6431a8f1b43a91026dcff51170a89a6512...</td>\n",
              "      <td>3</td>\n",
              "    </tr>\n",
              "    <tr>\n",
              "      <th>4</th>\n",
              "      <td>1deba9e96f404694373de9749ddd1ca8aa7bb823145a6f...</td>\n",
              "      <td>Junk lead</td>\n",
              "      <td>1834</td>\n",
              "      <td>266</td>\n",
              "      <td>7aae3e886e89fc1187a5c47d6cea1c22998ee610ade1f2...</td>\n",
              "      <td>e09e10e67812e9d236ad900e5d46b4308fc62f5d69446a...</td>\n",
              "      <td>ecc0e7dc084f141b29479058967d0bc07dee25d9690a98...</td>\n",
              "      <td>8d23a6e37e0a6431a8f1b43a91026dcff51170a89a6512...</td>\n",
              "      <td>3</td>\n",
              "    </tr>\n",
              "    <tr>\n",
              "      <th>...</th>\n",
              "      <td>...</td>\n",
              "      <td>...</td>\n",
              "      <td>...</td>\n",
              "      <td>...</td>\n",
              "      <td>...</td>\n",
              "      <td>...</td>\n",
              "      <td>...</td>\n",
              "      <td>...</td>\n",
              "      <td>...</td>\n",
              "    </tr>\n",
              "    <tr>\n",
              "      <th>46603</th>\n",
              "      <td>2306878a9ad9b57686cd623dd285aaa9b25afdf627f651...</td>\n",
              "      <td>Low availability</td>\n",
              "      <td>1834</td>\n",
              "      <td>263</td>\n",
              "      <td>7aae3e886e89fc1187a5c47d6cea1c22998ee610ade1f2...</td>\n",
              "      <td>8da82000ef9c4468ba47362a924b895e40662fed846942...</td>\n",
              "      <td>13d4b96b6ee361b737e22404aeecca45f322ba7d4c2c42...</td>\n",
              "      <td>8d23a6e37e0a6431a8f1b43a91026dcff51170a89a6512...</td>\n",
              "      <td>4</td>\n",
              "    </tr>\n",
              "    <tr>\n",
              "      <th>46604</th>\n",
              "      <td>327ec29056cc47c24bf922f7dc0f78261dad5c726d7353...</td>\n",
              "      <td>Semester stay</td>\n",
              "      <td>1834</td>\n",
              "      <td>286</td>\n",
              "      <td>7aae3e886e89fc1187a5c47d6cea1c22998ee610ade1f2...</td>\n",
              "      <td>8da82000ef9c4468ba47362a924b895e40662fed846942...</td>\n",
              "      <td>998c18dc0e513ab0035c7b858e3780bbbead88695a15de...</td>\n",
              "      <td>8d23a6e37e0a6431a8f1b43a91026dcff51170a89a6512...</td>\n",
              "      <td>4</td>\n",
              "    </tr>\n",
              "    <tr>\n",
              "      <th>46605</th>\n",
              "      <td>1134c0a7d44fdae1afd7f1f64e2789496784095ca0a050...</td>\n",
              "      <td>Low availability</td>\n",
              "      <td>1810</td>\n",
              "      <td>266</td>\n",
              "      <td>7aae3e886e89fc1187a5c47d6cea1c22998ee610ade1f2...</td>\n",
              "      <td>8da82000ef9c4468ba47362a924b895e40662fed846942...</td>\n",
              "      <td>ecc0e7dc084f141b29479058967d0bc07dee25d9690a98...</td>\n",
              "      <td>8d23a6e37e0a6431a8f1b43a91026dcff51170a89a6512...</td>\n",
              "      <td>4</td>\n",
              "    </tr>\n",
              "    <tr>\n",
              "      <th>46606</th>\n",
              "      <td>8b8b029f1142f5cbc825aa6cbee01406c915c6b055db79...</td>\n",
              "      <td>Low availability</td>\n",
              "      <td>815</td>\n",
              "      <td>93</td>\n",
              "      <td>d684761c17c11590f6e2525b48141cb2c0c6f2be5df4e2...</td>\n",
              "      <td>b936ee09e20b3b2234907cde349cda1c1a5327c4a486bf...</td>\n",
              "      <td>ecc0e7dc084f141b29479058967d0bc07dee25d9690a98...</td>\n",
              "      <td>8d23a6e37e0a6431a8f1b43a91026dcff51170a89a6512...</td>\n",
              "      <td>3</td>\n",
              "    </tr>\n",
              "    <tr>\n",
              "      <th>46607</th>\n",
              "      <td>1ea65ea38f2f574b3875ba895e4ff76b284b7725041612...</td>\n",
              "      <td>Low availability</td>\n",
              "      <td>1793</td>\n",
              "      <td>266</td>\n",
              "      <td>7aae3e886e89fc1187a5c47d6cea1c22998ee610ade1f2...</td>\n",
              "      <td>e09e10e67812e9d236ad900e5d46b4308fc62f5d69446a...</td>\n",
              "      <td>618738f7143c9b43a98a6b42d743a6595069a9b4dcf42d...</td>\n",
              "      <td>8d23a6e37e0a6431a8f1b43a91026dcff51170a89a6512...</td>\n",
              "      <td>4</td>\n",
              "    </tr>\n",
              "  </tbody>\n",
              "</table>\n",
              "<p>46317 rows × 9 columns</p>\n",
              "</div>\n",
              "      <button class=\"colab-df-convert\" onclick=\"convertToInteractive('df-def3d909-3c08-416c-8eae-7ab73cd0f30d')\"\n",
              "              title=\"Convert this dataframe to an interactive table.\"\n",
              "              style=\"display:none;\">\n",
              "        \n",
              "  <svg xmlns=\"http://www.w3.org/2000/svg\" height=\"24px\"viewBox=\"0 0 24 24\"\n",
              "       width=\"24px\">\n",
              "    <path d=\"M0 0h24v24H0V0z\" fill=\"none\"/>\n",
              "    <path d=\"M18.56 5.44l.94 2.06.94-2.06 2.06-.94-2.06-.94-.94-2.06-.94 2.06-2.06.94zm-11 1L8.5 8.5l.94-2.06 2.06-.94-2.06-.94L8.5 2.5l-.94 2.06-2.06.94zm10 10l.94 2.06.94-2.06 2.06-.94-2.06-.94-.94-2.06-.94 2.06-2.06.94z\"/><path d=\"M17.41 7.96l-1.37-1.37c-.4-.4-.92-.59-1.43-.59-.52 0-1.04.2-1.43.59L10.3 9.45l-7.72 7.72c-.78.78-.78 2.05 0 2.83L4 21.41c.39.39.9.59 1.41.59.51 0 1.02-.2 1.41-.59l7.78-7.78 2.81-2.81c.8-.78.8-2.07 0-2.86zM5.41 20L4 18.59l7.72-7.72 1.47 1.35L5.41 20z\"/>\n",
              "  </svg>\n",
              "      </button>\n",
              "      \n",
              "  <style>\n",
              "    .colab-df-container {\n",
              "      display:flex;\n",
              "      flex-wrap:wrap;\n",
              "      gap: 12px;\n",
              "    }\n",
              "\n",
              "    .colab-df-convert {\n",
              "      background-color: #E8F0FE;\n",
              "      border: none;\n",
              "      border-radius: 50%;\n",
              "      cursor: pointer;\n",
              "      display: none;\n",
              "      fill: #1967D2;\n",
              "      height: 32px;\n",
              "      padding: 0 0 0 0;\n",
              "      width: 32px;\n",
              "    }\n",
              "\n",
              "    .colab-df-convert:hover {\n",
              "      background-color: #E2EBFA;\n",
              "      box-shadow: 0px 1px 2px rgba(60, 64, 67, 0.3), 0px 1px 3px 1px rgba(60, 64, 67, 0.15);\n",
              "      fill: #174EA6;\n",
              "    }\n",
              "\n",
              "    [theme=dark] .colab-df-convert {\n",
              "      background-color: #3B4455;\n",
              "      fill: #D2E3FC;\n",
              "    }\n",
              "\n",
              "    [theme=dark] .colab-df-convert:hover {\n",
              "      background-color: #434B5C;\n",
              "      box-shadow: 0px 1px 3px 1px rgba(0, 0, 0, 0.15);\n",
              "      filter: drop-shadow(0px 1px 2px rgba(0, 0, 0, 0.3));\n",
              "      fill: #FFFFFF;\n",
              "    }\n",
              "  </style>\n",
              "\n",
              "      <script>\n",
              "        const buttonEl =\n",
              "          document.querySelector('#df-def3d909-3c08-416c-8eae-7ab73cd0f30d button.colab-df-convert');\n",
              "        buttonEl.style.display =\n",
              "          google.colab.kernel.accessAllowed ? 'block' : 'none';\n",
              "\n",
              "        async function convertToInteractive(key) {\n",
              "          const element = document.querySelector('#df-def3d909-3c08-416c-8eae-7ab73cd0f30d');\n",
              "          const dataTable =\n",
              "            await google.colab.kernel.invokeFunction('convertToInteractive',\n",
              "                                                     [key], {});\n",
              "          if (!dataTable) return;\n",
              "\n",
              "          const docLinkHtml = 'Like what you see? Visit the ' +\n",
              "            '<a target=\"_blank\" href=https://colab.research.google.com/notebooks/data_table.ipynb>data table notebook</a>'\n",
              "            + ' to learn more about interactive tables.';\n",
              "          element.innerHTML = '';\n",
              "          dataTable['output_type'] = 'display_data';\n",
              "          await google.colab.output.renderOutput(dataTable, element);\n",
              "          const docLink = document.createElement('div');\n",
              "          docLink.innerHTML = docLinkHtml;\n",
              "          element.appendChild(docLink);\n",
              "        }\n",
              "      </script>\n",
              "    </div>\n",
              "  </div>\n",
              "  "
            ]
          },
          "metadata": {},
          "execution_count": 79
        }
      ]
    },
    {
      "cell_type": "code",
      "source": [
        "X=pd.get_dummies(X)"
      ],
      "metadata": {
        "id": "tT0Pkujx1xLo"
      },
      "execution_count": null,
      "outputs": []
    },
    {
      "cell_type": "code",
      "source": [
        "X.shape"
      ],
      "metadata": {
        "colab": {
          "base_uri": "https://localhost:8080/"
        },
        "id": "IOvMOGCF14je",
        "outputId": "0fea45a0-c451-4844-bc15-aa849628b518"
      },
      "execution_count": null,
      "outputs": [
        {
          "output_type": "execute_result",
          "data": {
            "text/plain": [
              "(46317, 1253)"
            ]
          },
          "metadata": {},
          "execution_count": 81
        }
      ]
    },
    {
      "cell_type": "code",
      "source": [
        "X_train,X_test,Y_train,Y_test=train_test_split(X,y,test_size=0.2,random_state=65)"
      ],
      "metadata": {
        "id": "CM7bl_QlzeZe"
      },
      "execution_count": null,
      "outputs": []
    },
    {
      "cell_type": "code",
      "source": [
        "stratified_split_cv=StratifiedKFold(n_splits=10,shuffle=True,random_state=65)"
      ],
      "metadata": {
        "id": "mtOvYR1_26Zp"
      },
      "execution_count": null,
      "outputs": []
    },
    {
      "cell_type": "code",
      "source": [
        "lr=LogisticRegression(solver='newton-cholesky',random_state=65)\n",
        "lr.fit(X_train,Y_train)\n",
        "lr_test_score=lr.score(X_test,Y_test)\n",
        "lr_train_score=lr.score(X_train,Y_train)\n",
        "acc_log = round(lr_test_score * 100, 2)\n",
        "print(f'Train Accuracy Score: {round(lr_train_score*100,2)}\\nTest Accuracy Score: {acc_log}\\nF1_score: {round(100*f1_score(Y_test,lr.predict(X_test)),2)}')"
      ],
      "metadata": {
        "colab": {
          "base_uri": "https://localhost:8080/"
        },
        "id": "JshE4r453SGj",
        "outputId": "bab6bfa2-cc09-4a96-8521-20fa87478ef6"
      },
      "execution_count": null,
      "outputs": [
        {
          "output_type": "stream",
          "name": "stdout",
          "text": [
            "Train Accuracy Score: 100.0\n",
            "Test Accuracy Score: 100.0\n",
            "F1_score: 100.0\n"
          ]
        }
      ]
    },
    {
      "cell_type": "code",
      "source": [
        "print(classification_report(Y_test,lr.predict(X_test)))"
      ],
      "metadata": {
        "colab": {
          "base_uri": "https://localhost:8080/"
        },
        "id": "JQp2DdJr6Oye",
        "outputId": "d0976b79-23aa-4673-ba00-ebc2bef2894d"
      },
      "execution_count": null,
      "outputs": [
        {
          "output_type": "stream",
          "name": "stdout",
          "text": [
            "              precision    recall  f1-score   support\n",
            "\n",
            "           0       1.00      1.00      1.00      8649\n",
            "           1       1.00      1.00      1.00       615\n",
            "\n",
            "    accuracy                           1.00      9264\n",
            "   macro avg       1.00      1.00      1.00      9264\n",
            "weighted avg       1.00      1.00      1.00      9264\n",
            "\n"
          ]
        }
      ]
    },
    {
      "cell_type": "code",
      "source": [
        "ConfusionMatrixDisplay.from_estimator(lr,X_train,Y_train)"
      ],
      "metadata": {
        "colab": {
          "base_uri": "https://localhost:8080/",
          "height": 296
        },
        "id": "fdIJEOab5D2v",
        "outputId": "feaa852b-4064-424a-e6e9-48a3e71c2e11"
      },
      "execution_count": null,
      "outputs": [
        {
          "output_type": "execute_result",
          "data": {
            "text/plain": [
              "<sklearn.metrics._plot.confusion_matrix.ConfusionMatrixDisplay at 0x7f63c2f87160>"
            ]
          },
          "metadata": {},
          "execution_count": 107
        },
        {
          "output_type": "display_data",
          "data": {
            "text/plain": [
              "<Figure size 432x288 with 2 Axes>"
            ],
            "image/png": "[encoded data removed]"
          },
          "metadata": {
            "needs_background": "light"
          }
        }
      ]
    },
    {
      "cell_type": "code",
      "source": [
        "ConfusionMatrixDisplay.from_estimator(lr,X_test,Y_test)"
      ],
      "metadata": {
        "colab": {
          "base_uri": "https://localhost:8080/",
          "height": 296
        },
        "id": "LENoahGz5gQz",
        "outputId": "c6b4314a-7aca-4065-80b5-444e2728b0af"
      },
      "execution_count": null,
      "outputs": [
        {
          "output_type": "execute_result",
          "data": {
            "text/plain": [
              "<sklearn.metrics._plot.confusion_matrix.ConfusionMatrixDisplay at 0x7f63c2d9ff70>"
            ]
          },
          "metadata": {},
          "execution_count": 108
        },
        {
          "output_type": "display_data",
          "data": {
            "text/plain": [
              "<Figure size 432x288 with 2 Axes>"
            ],
            "image/png": "[encoded data removed]"
          },
          "metadata": {
            "needs_background": "light"
          }
        }
      ]
    },
    {
      "cell_type": "code",
      "source": [
        "#Perceptron\n",
        "percp=Perceptron(random_state=65)\n",
        "percp.fit(X_train,Y_train)\n",
        "percp_test_score=percp.score(X_test,Y_test)\n",
        "percp_train_score=percp.score(X_train,Y_train)\n",
        "acc_percp = round(percp_test_score * 100, 2)\n",
        "print(f'Train Accuracy Score: {round(percp_train_score*100,2)}\\nTest Accuracy Score: {acc_percp}\\nF1_score: {round(100*f1_score(Y_test,percp.predict(X_test)),2)}')"
      ],
      "metadata": {
        "colab": {
          "base_uri": "https://localhost:8080/"
        },
        "id": "DR_wDSRP5pB8",
        "outputId": "cadb6b6d-b6bc-4bb3-f918-1e931dbbfe1d"
      },
      "execution_count": null,
      "outputs": [
        {
          "output_type": "stream",
          "name": "stdout",
          "text": [
            "Train Accuracy Score: 93.75\n",
            "Test Accuracy Score: 93.78\n",
            "F1_score: 12.99\n"
          ]
        }
      ]
    },
    {
      "cell_type": "code",
      "source": [
        "# Decision Tree Classifier\n",
        "dct=DecisionTreeClassifier(random_state=65)\n",
        "dct.fit(X_train,Y_train)\n",
        "dct_test_score=dct.score(X_test,Y_test)\n",
        "dct_train_score=dct.score(X_train,Y_train)\n",
        "acc_dct = round(dct_test_score * 100, 2)\n",
        "print(f'Train Accuracy Score: {round(dct_train_score*100,2)}\\nTest Accuracy Score: {acc_dct}\\nF1_score: {round(100*f1_score(Y_test,dct.predict(X_test)),2)}')"
      ],
      "metadata": {
        "colab": {
          "base_uri": "https://localhost:8080/"
        },
        "id": "6LlCG8us7JxP",
        "outputId": "81aa35fb-5cbb-4458-fe99-982c6d030485"
      },
      "execution_count": null,
      "outputs": [
        {
          "output_type": "stream",
          "name": "stdout",
          "text": [
            "Train Accuracy Score: 100.0\n",
            "Test Accuracy Score: 100.0\n",
            "F1_score: 100.0\n"
          ]
        }
      ]
    },
    {
      "cell_type": "code",
      "source": [
        "#KNN\n",
        "knn = KNeighborsClassifier(n_neighbors=10)# n=31 from HPT\n",
        "knn.fit(X_train, Y_train)\n",
        "knn_test_score=knn.score(X_test,Y_test)\n",
        "knn_train_score=knn.score(X_train,Y_train)\n",
        "acc_knn = round(knn_test_score * 100, 2)\n",
        "f1_knn=round(100*f1_score(Y_test,knn.predict(X_test)),2)\n",
        "print(f'Train Accuracy Score: {round(knn_train_score*100,2)}\\nTest Accuracy Score: {acc_knn}\\nF1_score: {f1_knn}')"
      ],
      "metadata": {
        "colab": {
          "base_uri": "https://localhost:8080/"
        },
        "id": "zQm0s3lD7QkC",
        "outputId": "be96a3aa-db0d-415c-c4bd-f7bd4f538920"
      },
      "execution_count": null,
      "outputs": [
        {
          "output_type": "stream",
          "name": "stdout",
          "text": [
            "Train Accuracy Score: 96.93\n",
            "Test Accuracy Score: 96.49\n",
            "F1_score: 65.61\n"
          ]
        }
      ]
    },
    {
      "cell_type": "code",
      "source": [
        "#Random Forest Classifier\n",
        "raf=RandomForestClassifier(random_state=65)\n",
        "raf.fit(X_train,Y_train)\n",
        "raf_test_score=raf.score(X_test,Y_test)\n",
        "raf_train_score=raf.score(X_train,Y_train)\n",
        "acc_raf = round(raf_test_score * 100, 2)\n",
        "print(f'Train  Accuracy Score: {round(raf_train_score*100,2)}\\nTest Accuracy Score: {acc_raf}\\nF1_score :{round(100*f1_score(Y_test,raf.predict(X_test)),2)}')"
      ],
      "metadata": {
        "colab": {
          "base_uri": "https://localhost:8080/"
        },
        "id": "SmmWZI3p50nz",
        "outputId": "bd843676-f3b3-4579-e43c-c6a6c36f857f"
      },
      "execution_count": null,
      "outputs": [
        {
          "output_type": "stream",
          "name": "stdout",
          "text": [
            "Train  Accuracy Score: 100.0\n",
            "Test Accuracy Score: 100.0\n",
            "F1_score :100.0\n"
          ]
        }
      ]
    }
  ]
}